{
 "cells": [
  {
   "cell_type": "code",
   "execution_count": 2,
   "metadata": {},
   "outputs": [
    {
     "name": "stdout",
     "output_type": "stream",
     "text": [
      "Python 3.8.6\r\n"
     ]
    }
   ],
   "source": [
    "!python3 --version"
   ]
  },
  {
   "cell_type": "code",
   "execution_count": 3,
   "metadata": {},
   "outputs": [],
   "source": [
    "import pandas as pd\n",
    "import seaborn as sns"
   ]
  },
  {
   "cell_type": "code",
   "execution_count": 5,
   "metadata": {},
   "outputs": [
    {
     "name": "stdout",
     "output_type": "stream",
     "text": [
      "ready for some more eth data?\n"
     ]
    }
   ],
   "source": [
    "print('ready for some more eth data?')"
   ]
  },
  {
   "cell_type": "code",
   "execution_count": 19,
   "metadata": {},
   "outputs": [],
   "source": [
    "data = 'data/09_16_20/attestations_1.csv' "
   ]
  },
  {
   "cell_type": "code",
   "execution_count": 20,
   "metadata": {},
   "outputs": [],
   "source": [
    "df = pd.read_csv(data)"
   ]
  },
  {
   "cell_type": "code",
   "execution_count": 29,
   "metadata": {},
   "outputs": [
    {
     "data": {
      "text/plain": [
       "355971"
      ]
     },
     "execution_count": 29,
     "metadata": {},
     "output_type": "execute_result"
    }
   ],
   "source": [
    "df.size"
   ]
  },
  {
   "cell_type": "code",
   "execution_count": 30,
   "metadata": {},
   "outputs": [
    {
     "data": {
      "text/plain": [
       "(50853, 7)"
      ]
     },
     "execution_count": 30,
     "metadata": {},
     "output_type": "execute_result"
    }
   ],
   "source": [
    "df.shape"
   ]
  },
  {
   "cell_type": "code",
   "execution_count": 26,
   "metadata": {},
   "outputs": [
    {
     "data": {
      "text/plain": [
       "Index(['slot', 'beacon_block_root', 'attesting_indices', 'source_epoch',\n",
       "       'source_block_root', 'target_epoch', 'target_block_root'],\n",
       "      dtype='object')"
      ]
     },
     "execution_count": 26,
     "metadata": {},
     "output_type": "execute_result"
    }
   ],
   "source": [
    "df.columns"
   ]
  },
  {
   "cell_type": "code",
   "execution_count": 28,
   "metadata": {},
   "outputs": [
    {
     "data": {
      "text/html": [
       "<div>\n",
       "<style scoped>\n",
       "    .dataframe tbody tr th:only-of-type {\n",
       "        vertical-align: middle;\n",
       "    }\n",
       "\n",
       "    .dataframe tbody tr th {\n",
       "        vertical-align: top;\n",
       "    }\n",
       "\n",
       "    .dataframe thead th {\n",
       "        text-align: right;\n",
       "    }\n",
       "</style>\n",
       "<table border=\"1\" class=\"dataframe\">\n",
       "  <thead>\n",
       "    <tr style=\"text-align: right;\">\n",
       "      <th></th>\n",
       "      <th>slot</th>\n",
       "      <th>source_epoch</th>\n",
       "      <th>target_epoch</th>\n",
       "    </tr>\n",
       "  </thead>\n",
       "  <tbody>\n",
       "    <tr>\n",
       "      <th>count</th>\n",
       "      <td>50853.000000</td>\n",
       "      <td>50853.000000</td>\n",
       "      <td>50853.000000</td>\n",
       "    </tr>\n",
       "    <tr>\n",
       "      <th>mean</th>\n",
       "      <td>145055.493796</td>\n",
       "      <td>4503.067253</td>\n",
       "      <td>4532.205455</td>\n",
       "    </tr>\n",
       "    <tr>\n",
       "      <th>std</th>\n",
       "      <td>96928.844503</td>\n",
       "      <td>3045.874461</td>\n",
       "      <td>3029.099497</td>\n",
       "    </tr>\n",
       "    <tr>\n",
       "      <th>min</th>\n",
       "      <td>228.000000</td>\n",
       "      <td>0.000000</td>\n",
       "      <td>6.000000</td>\n",
       "    </tr>\n",
       "    <tr>\n",
       "      <th>25%</th>\n",
       "      <td>49713.000000</td>\n",
       "      <td>1551.000000</td>\n",
       "      <td>1552.000000</td>\n",
       "    </tr>\n",
       "    <tr>\n",
       "      <th>50%</th>\n",
       "      <td>148334.000000</td>\n",
       "      <td>4633.000000</td>\n",
       "      <td>4634.000000</td>\n",
       "    </tr>\n",
       "    <tr>\n",
       "      <th>75%</th>\n",
       "      <td>229257.000000</td>\n",
       "      <td>7162.000000</td>\n",
       "      <td>7163.000000</td>\n",
       "    </tr>\n",
       "    <tr>\n",
       "      <th>max</th>\n",
       "      <td>312409.000000</td>\n",
       "      <td>9761.000000</td>\n",
       "      <td>9762.000000</td>\n",
       "    </tr>\n",
       "  </tbody>\n",
       "</table>\n",
       "</div>"
      ],
      "text/plain": [
       "                slot  source_epoch  target_epoch\n",
       "count   50853.000000  50853.000000  50853.000000\n",
       "mean   145055.493796   4503.067253   4532.205455\n",
       "std     96928.844503   3045.874461   3029.099497\n",
       "min       228.000000      0.000000      6.000000\n",
       "25%     49713.000000   1551.000000   1552.000000\n",
       "50%    148334.000000   4633.000000   4634.000000\n",
       "75%    229257.000000   7162.000000   7163.000000\n",
       "max    312409.000000   9761.000000   9762.000000"
      ]
     },
     "execution_count": 28,
     "metadata": {},
     "output_type": "execute_result"
    }
   ],
   "source": [
    "df.describe()"
   ]
  },
  {
   "cell_type": "code",
   "execution_count": 23,
   "metadata": {},
   "outputs": [
    {
     "data": {
      "text/html": [
       "<div>\n",
       "<style scoped>\n",
       "    .dataframe tbody tr th:only-of-type {\n",
       "        vertical-align: middle;\n",
       "    }\n",
       "\n",
       "    .dataframe tbody tr th {\n",
       "        vertical-align: top;\n",
       "    }\n",
       "\n",
       "    .dataframe thead th {\n",
       "        text-align: right;\n",
       "    }\n",
       "</style>\n",
       "<table border=\"1\" class=\"dataframe\">\n",
       "  <thead>\n",
       "    <tr style=\"text-align: right;\">\n",
       "      <th></th>\n",
       "      <th>slot</th>\n",
       "      <th>beacon_block_root</th>\n",
       "      <th>attesting_indices</th>\n",
       "      <th>source_epoch</th>\n",
       "      <th>source_block_root</th>\n",
       "      <th>target_epoch</th>\n",
       "      <th>target_block_root</th>\n",
       "    </tr>\n",
       "  </thead>\n",
       "  <tbody>\n",
       "    <tr>\n",
       "      <th>0</th>\n",
       "      <td>64590</td>\n",
       "      <td>0x2622bb6825cbd8041bfb719ecc8cec31a8e39881a472...</td>\n",
       "      <td>0000000000000000000000000001000000001000000000...</td>\n",
       "      <td>2017</td>\n",
       "      <td>0xd0fe548ffd8197f58814300ed02471ae8d386e0fc24e...</td>\n",
       "      <td>2018</td>\n",
       "      <td>0xabcbd38d70fd0123c136a4593d820bdef1fc94251a44...</td>\n",
       "    </tr>\n",
       "    <tr>\n",
       "      <th>1</th>\n",
       "      <td>64590</td>\n",
       "      <td>0x3de5c03066e9c33694f5af05d8c2150fc634ed96bffe...</td>\n",
       "      <td>1011100101101011001111010110111101001111111111...</td>\n",
       "      <td>2017</td>\n",
       "      <td>0xd0fe548ffd8197f58814300ed02471ae8d386e0fc24e...</td>\n",
       "      <td>2018</td>\n",
       "      <td>0xabcbd38d70fd0123c136a4593d820bdef1fc94251a44...</td>\n",
       "    </tr>\n",
       "    <tr>\n",
       "      <th>2</th>\n",
       "      <td>64590</td>\n",
       "      <td>0x3de5c03066e9c33694f5af05d8c2150fc634ed96bffe...</td>\n",
       "      <td>0011110100111110101011011110100111001011000111...</td>\n",
       "      <td>2017</td>\n",
       "      <td>0xd0fe548ffd8197f58814300ed02471ae8d386e0fc24e...</td>\n",
       "      <td>2018</td>\n",
       "      <td>0xabcbd38d70fd0123c136a4593d820bdef1fc94251a44...</td>\n",
       "    </tr>\n",
       "    <tr>\n",
       "      <th>3</th>\n",
       "      <td>64590</td>\n",
       "      <td>0x2622bb6825cbd8041bfb719ecc8cec31a8e39881a472...</td>\n",
       "      <td>0000000000000000000000000000000000000000000000...</td>\n",
       "      <td>2017</td>\n",
       "      <td>0xd0fe548ffd8197f58814300ed02471ae8d386e0fc24e...</td>\n",
       "      <td>2018</td>\n",
       "      <td>0xabcbd38d70fd0123c136a4593d820bdef1fc94251a44...</td>\n",
       "    </tr>\n",
       "    <tr>\n",
       "      <th>4</th>\n",
       "      <td>64590</td>\n",
       "      <td>0x2622bb6825cbd8041bfb719ecc8cec31a8e39881a472...</td>\n",
       "      <td>0000000000000000000000000000001000000000000000...</td>\n",
       "      <td>2017</td>\n",
       "      <td>0xd0fe548ffd8197f58814300ed02471ae8d386e0fc24e...</td>\n",
       "      <td>2018</td>\n",
       "      <td>0xabcbd38d70fd0123c136a4593d820bdef1fc94251a44...</td>\n",
       "    </tr>\n",
       "  </tbody>\n",
       "</table>\n",
       "</div>"
      ],
      "text/plain": [
       "    slot                                  beacon_block_root  \\\n",
       "0  64590  0x2622bb6825cbd8041bfb719ecc8cec31a8e39881a472...   \n",
       "1  64590  0x3de5c03066e9c33694f5af05d8c2150fc634ed96bffe...   \n",
       "2  64590  0x3de5c03066e9c33694f5af05d8c2150fc634ed96bffe...   \n",
       "3  64590  0x2622bb6825cbd8041bfb719ecc8cec31a8e39881a472...   \n",
       "4  64590  0x2622bb6825cbd8041bfb719ecc8cec31a8e39881a472...   \n",
       "\n",
       "                                   attesting_indices  source_epoch  \\\n",
       "0  0000000000000000000000000001000000001000000000...          2017   \n",
       "1  1011100101101011001111010110111101001111111111...          2017   \n",
       "2  0011110100111110101011011110100111001011000111...          2017   \n",
       "3  0000000000000000000000000000000000000000000000...          2017   \n",
       "4  0000000000000000000000000000001000000000000000...          2017   \n",
       "\n",
       "                                   source_block_root  target_epoch  \\\n",
       "0  0xd0fe548ffd8197f58814300ed02471ae8d386e0fc24e...          2018   \n",
       "1  0xd0fe548ffd8197f58814300ed02471ae8d386e0fc24e...          2018   \n",
       "2  0xd0fe548ffd8197f58814300ed02471ae8d386e0fc24e...          2018   \n",
       "3  0xd0fe548ffd8197f58814300ed02471ae8d386e0fc24e...          2018   \n",
       "4  0xd0fe548ffd8197f58814300ed02471ae8d386e0fc24e...          2018   \n",
       "\n",
       "                                   target_block_root  \n",
       "0  0xabcbd38d70fd0123c136a4593d820bdef1fc94251a44...  \n",
       "1  0xabcbd38d70fd0123c136a4593d820bdef1fc94251a44...  \n",
       "2  0xabcbd38d70fd0123c136a4593d820bdef1fc94251a44...  \n",
       "3  0xabcbd38d70fd0123c136a4593d820bdef1fc94251a44...  \n",
       "4  0xabcbd38d70fd0123c136a4593d820bdef1fc94251a44...  "
      ]
     },
     "execution_count": 23,
     "metadata": {},
     "output_type": "execute_result"
    }
   ],
   "source": [
    "df.head()"
   ]
  },
  {
   "cell_type": "code",
   "execution_count": 31,
   "metadata": {},
   "outputs": [
    {
     "data": {
      "text/html": [
       "<div>\n",
       "<style scoped>\n",
       "    .dataframe tbody tr th:only-of-type {\n",
       "        vertical-align: middle;\n",
       "    }\n",
       "\n",
       "    .dataframe tbody tr th {\n",
       "        vertical-align: top;\n",
       "    }\n",
       "\n",
       "    .dataframe thead th {\n",
       "        text-align: right;\n",
       "    }\n",
       "</style>\n",
       "<table border=\"1\" class=\"dataframe\">\n",
       "  <thead>\n",
       "    <tr style=\"text-align: right;\">\n",
       "      <th></th>\n",
       "      <th>slot</th>\n",
       "      <th>beacon_block_root</th>\n",
       "      <th>attesting_indices</th>\n",
       "      <th>source_epoch</th>\n",
       "      <th>source_block_root</th>\n",
       "      <th>target_epoch</th>\n",
       "      <th>target_block_root</th>\n",
       "    </tr>\n",
       "  </thead>\n",
       "  <tbody>\n",
       "    <tr>\n",
       "      <th>50848</th>\n",
       "      <td>37964</td>\n",
       "      <td>0xaec224ceeb5b762110803d91b8c28d96f000341c75b6...</td>\n",
       "      <td>0000000000000000000000000000000000000000000000...</td>\n",
       "      <td>1184</td>\n",
       "      <td>0x7a3ec53ae4dd06b003cdf7281e11f88be6b64e64ea05...</td>\n",
       "      <td>1185</td>\n",
       "      <td>0x48397603666de6bb3cf216832668006970c9fd5856ae...</td>\n",
       "    </tr>\n",
       "    <tr>\n",
       "      <th>50849</th>\n",
       "      <td>37964</td>\n",
       "      <td>0xaec224ceeb5b762110803d91b8c28d96f000341c75b6...</td>\n",
       "      <td>0000000000000000000000000000000000000000000000...</td>\n",
       "      <td>1184</td>\n",
       "      <td>0x7a3ec53ae4dd06b003cdf7281e11f88be6b64e64ea05...</td>\n",
       "      <td>1185</td>\n",
       "      <td>0x48397603666de6bb3cf216832668006970c9fd5856ae...</td>\n",
       "    </tr>\n",
       "    <tr>\n",
       "      <th>50850</th>\n",
       "      <td>37964</td>\n",
       "      <td>0xe5bc232783b46ac9fe01bc15895f6b32d1901095510b...</td>\n",
       "      <td>0000000000000000000000000000000000000000000000...</td>\n",
       "      <td>1185</td>\n",
       "      <td>0x48397603666de6bb3cf216832668006970c9fd5856ae...</td>\n",
       "      <td>1186</td>\n",
       "      <td>0xc293b248d7f0de88f85c8693eb9537dd271e71b0b530...</td>\n",
       "    </tr>\n",
       "    <tr>\n",
       "      <th>50851</th>\n",
       "      <td>37964</td>\n",
       "      <td>0x78962523169aa1448ebc81b82fb1f01eca73cb7f8316...</td>\n",
       "      <td>0000000000000000000000000000000000000000000000...</td>\n",
       "      <td>1185</td>\n",
       "      <td>0x48397603666de6bb3cf216832668006970c9fd5856ae...</td>\n",
       "      <td>1186</td>\n",
       "      <td>0xc293b248d7f0de88f85c8693eb9537dd271e71b0b530...</td>\n",
       "    </tr>\n",
       "    <tr>\n",
       "      <th>50852</th>\n",
       "      <td>37964</td>\n",
       "      <td>0x01454d5b36faafbb9b1ba3211fb6db33d6a5194f556a...</td>\n",
       "      <td>0000000000000000000000000000000000000000000100...</td>\n",
       "      <td>1184</td>\n",
       "      <td>0x7a3ec53ae4dd06b003cdf7281e11f88be6b64e64ea05...</td>\n",
       "      <td>1185</td>\n",
       "      <td>0x48397603666de6bb3cf216832668006970c9fd5856ae...</td>\n",
       "    </tr>\n",
       "  </tbody>\n",
       "</table>\n",
       "</div>"
      ],
      "text/plain": [
       "        slot                                  beacon_block_root  \\\n",
       "50848  37964  0xaec224ceeb5b762110803d91b8c28d96f000341c75b6...   \n",
       "50849  37964  0xaec224ceeb5b762110803d91b8c28d96f000341c75b6...   \n",
       "50850  37964  0xe5bc232783b46ac9fe01bc15895f6b32d1901095510b...   \n",
       "50851  37964  0x78962523169aa1448ebc81b82fb1f01eca73cb7f8316...   \n",
       "50852  37964  0x01454d5b36faafbb9b1ba3211fb6db33d6a5194f556a...   \n",
       "\n",
       "                                       attesting_indices  source_epoch  \\\n",
       "50848  0000000000000000000000000000000000000000000000...          1184   \n",
       "50849  0000000000000000000000000000000000000000000000...          1184   \n",
       "50850  0000000000000000000000000000000000000000000000...          1185   \n",
       "50851  0000000000000000000000000000000000000000000000...          1185   \n",
       "50852  0000000000000000000000000000000000000000000100...          1184   \n",
       "\n",
       "                                       source_block_root  target_epoch  \\\n",
       "50848  0x7a3ec53ae4dd06b003cdf7281e11f88be6b64e64ea05...          1185   \n",
       "50849  0x7a3ec53ae4dd06b003cdf7281e11f88be6b64e64ea05...          1185   \n",
       "50850  0x48397603666de6bb3cf216832668006970c9fd5856ae...          1186   \n",
       "50851  0x48397603666de6bb3cf216832668006970c9fd5856ae...          1186   \n",
       "50852  0x7a3ec53ae4dd06b003cdf7281e11f88be6b64e64ea05...          1185   \n",
       "\n",
       "                                       target_block_root  \n",
       "50848  0x48397603666de6bb3cf216832668006970c9fd5856ae...  \n",
       "50849  0x48397603666de6bb3cf216832668006970c9fd5856ae...  \n",
       "50850  0xc293b248d7f0de88f85c8693eb9537dd271e71b0b530...  \n",
       "50851  0xc293b248d7f0de88f85c8693eb9537dd271e71b0b530...  \n",
       "50852  0x48397603666de6bb3cf216832668006970c9fd5856ae...  "
      ]
     },
     "execution_count": 31,
     "metadata": {},
     "output_type": "execute_result"
    }
   ],
   "source": [
    "df.tail()"
   ]
  },
  {
   "cell_type": "code",
   "execution_count": 39,
   "metadata": {},
   "outputs": [
    {
     "data": {
      "text/plain": [
       "998"
      ]
     },
     "execution_count": 39,
     "metadata": {},
     "output_type": "execute_result"
    }
   ],
   "source": [
    "df.slot.unique().size"
   ]
  },
  {
   "cell_type": "code",
   "execution_count": null,
   "metadata": {},
   "outputs": [],
   "source": []
  },
  {
   "cell_type": "code",
   "execution_count": null,
   "metadata": {},
   "outputs": [],
   "source": []
  },
  {
   "cell_type": "code",
   "execution_count": null,
   "metadata": {},
   "outputs": [],
   "source": []
  }
 ],
 "metadata": {
  "kernelspec": {
   "display_name": "Python 3",
   "language": "python",
   "name": "python3"
  },
  "language_info": {
   "codemirror_mode": {
    "name": "ipython",
    "version": 3
   },
   "file_extension": ".py",
   "mimetype": "text/x-python",
   "name": "python",
   "nbconvert_exporter": "python",
   "pygments_lexer": "ipython3",
   "version": "3.8.6"
  }
 },
 "nbformat": 4,
 "nbformat_minor": 4
}
