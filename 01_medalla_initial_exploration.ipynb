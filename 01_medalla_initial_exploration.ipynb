{
 "cells": [
  {
   "cell_type": "markdown",
   "metadata": {},
   "source": [
    "# Medalla: Exploring the data behind Eth2"
   ]
  },
  {
   "cell_type": "markdown",
   "metadata": {},
   "source": [
    "Before we start with data explorations, we’ll briefly cover what’s going on behind Eth2, and why it’s different from the current state of Ethereum.\n",
    "\n",
    "In general terms, the Ethereum network is currently able to process from 15 to 30 transactions per second."
   ]
  },
  {
   "cell_type": "code",
   "execution_count": 1,
   "metadata": {},
   "outputs": [
    {
     "name": "stdout",
     "output_type": "stream",
     "text": [
      "Python 3.8.6\r\n"
     ]
    }
   ],
   "source": [
    "!python3 --version"
   ]
  },
  {
   "cell_type": "code",
   "execution_count": 2,
   "metadata": {},
   "outputs": [],
   "source": [
    "import pandas as pd\n",
    "from matplotlib import pyplot as plt\n",
    "import seaborn as sns"
   ]
  },
  {
   "cell_type": "code",
   "execution_count": 3,
   "metadata": {},
   "outputs": [
    {
     "data": {
      "text/plain": [
       "Text(0.5, 1.0, 'Estimated transactions per second on the different networks')"
      ]
     },
     "execution_count": 3,
     "metadata": {},
     "output_type": "execute_result"
    },
    {
     "data": {
      "image/png": "[encoded data removed]",
      "text/plain": [
       "<Figure size 432x288 with 1 Axes>"
      ]
     },
     "metadata": {
      "needs_background": "light"
     },
     "output_type": "display_data"
    }
   ],
   "source": [
    "networks = {\"Bitcoin\":(3,7),\n",
    "           \"Ethereum\":(15,45)}\n",
    "\n",
    "df = pd.DataFrame.from_dict(networks).transpose()\n",
    "df.columns = (\"low\", \"high\")\n",
    "\n",
    "df.plot.bar()\n",
    "plt.title(\"Estimated transactions per second on the different networks\")"
   ]
  },
  {
   "cell_type": "markdown",
   "metadata": {},
   "source": [
    "## We want to increase scalability (Transactions per second) of the network while not compromising decentralization. \n",
    "\n",
    "When compared to other centralized solutions like Visa, which can process around 10.000 transactions per second, the Ethereum falls greatly behind. This is one of the reasons for which the technology is not prepared for massive adoption, and why initiatives like Ethereum 2.0 are currently being pushed forward.\n",
    "\n",
    ">[Vitalik Buterin] estimates that once **optimistic rollups** are fully implemented and the transition to Eth2 begins, Ethereum (ETH) will be able to process 100,000 transactions per second (Phase 1.5). In ETH2 with its sharded infrastructure, 1000-5000 TPS will be available.\n",
    "\n",
    "It is important to note that while the deployment of Eth2's Phase 0 will not increase the Layer 1 Transactions Per Second, today there are various **rollup solutions** which would allow a [100x scaling](https://twitter.com/VitalikButerin/status/1312905882330521600) of the current network."
   ]
  },
  {
   "cell_type": "code",
   "execution_count": 28,
   "metadata": {},
   "outputs": [],
   "source": [
    "networks[\"Ethereum w/ rollups\"] = (1500, 3000)\n",
    "networks[\"Eth2 (Phase 1.5)\"] = (1000, 5000) \n",
    "networks[\"Eth2 (Phase 1.5) w/ rollups\"] = (25000, 100000) \n",
    "networks[\"EOS\"] = (4000,9000)\n",
    "networks[\"Visa\"] = (9000,11000)"
   ]
  },
  {
   "cell_type": "code",
   "execution_count": 29,
   "metadata": {
    "scrolled": false
   },
   "outputs": [
    {
     "data": {
      "text/html": [
       "<div>\n",
       "<style scoped>\n",
       "    .dataframe tbody tr th:only-of-type {\n",
       "        vertical-align: middle;\n",
       "    }\n",
       "\n",
       "    .dataframe tbody tr th {\n",
       "        vertical-align: top;\n",
       "    }\n",
       "\n",
       "    .dataframe thead th {\n",
       "        text-align: right;\n",
       "    }\n",
       "</style>\n",
       "<table border=\"1\" class=\"dataframe\">\n",
       "  <thead>\n",
       "    <tr style=\"text-align: right;\">\n",
       "      <th></th>\n",
       "      <th>low</th>\n",
       "      <th>high</th>\n",
       "    </tr>\n",
       "  </thead>\n",
       "  <tbody>\n",
       "    <tr>\n",
       "      <th>Bitcoin</th>\n",
       "      <td>3</td>\n",
       "      <td>7</td>\n",
       "    </tr>\n",
       "    <tr>\n",
       "      <th>Ethereum</th>\n",
       "      <td>15</td>\n",
       "      <td>30</td>\n",
       "    </tr>\n",
       "    <tr>\n",
       "      <th>Eth2 (Phase 1.5)</th>\n",
       "      <td>1000</td>\n",
       "      <td>5000</td>\n",
       "    </tr>\n",
       "    <tr>\n",
       "      <th>Ethereum w/ rollups</th>\n",
       "      <td>1500</td>\n",
       "      <td>3000</td>\n",
       "    </tr>\n",
       "    <tr>\n",
       "      <th>EOS</th>\n",
       "      <td>4000</td>\n",
       "      <td>9000</td>\n",
       "    </tr>\n",
       "    <tr>\n",
       "      <th>Visa</th>\n",
       "      <td>9000</td>\n",
       "      <td>11000</td>\n",
       "    </tr>\n",
       "    <tr>\n",
       "      <th>Eth2 (Phase 1.5) w/ rollups</th>\n",
       "      <td>25000</td>\n",
       "      <td>100000</td>\n",
       "    </tr>\n",
       "  </tbody>\n",
       "</table>\n",
       "</div>"
      ],
      "text/plain": [
       "                               low    high\n",
       "Bitcoin                          3       7\n",
       "Ethereum                        15      30\n",
       "Eth2 (Phase 1.5)              1000    5000\n",
       "Ethereum w/ rollups           1500    3000\n",
       "EOS                           4000    9000\n",
       "Visa                          9000   11000\n",
       "Eth2 (Phase 1.5) w/ rollups  25000  100000"
      ]
     },
     "execution_count": 29,
     "metadata": {},
     "output_type": "execute_result"
    },
    {
     "data": {
      "image/png": "[encoded data removed]",
      "text/plain": [
       "<Figure size 432x288 with 1 Axes>"
      ]
     },
     "metadata": {
      "needs_background": "light"
     },
     "output_type": "display_data"
    }
   ],
   "source": [
    "df = pd.DataFrame.from_dict(networks).transpose()\n",
    "df.columns = (\"low\", \"high\")\n",
    "df = df.sort_values(by=[\"low\"])\n",
    "df.plot.bar()\n",
    "plt.title(\"Estimated transactions per second on the different networks\")\n",
    "df"
   ]
  },
  {
   "cell_type": "code",
   "execution_count": 34,
   "metadata": {
    "scrolled": false
   },
   "outputs": [
    {
     "data": {
      "text/plain": [
       "Text(0.5, 1.0, 'Estimated transactions per second with the development of Eth2')"
      ]
     },
     "execution_count": 34,
     "metadata": {},
     "output_type": "execute_result"
    },
    {
     "data": {
      "image/png": "[encoded data removed]",
      "text/plain": [
       "<Figure size 432x288 with 1 Axes>"
      ]
     },
     "metadata": {
      "needs_background": "light"
     },
     "output_type": "display_data"
    }
   ],
   "source": [
    "Eth_comparison = df.transpose()[[\"Ethereum\", \"Ethereum w/ rollups\", \"Eth2 (Phase 1.5)\", \"Eth2 (Phase 1.5) w/ rollups\"]].transpose()\n",
    "Eth_comparison.plot.bar()\n",
    "plt.title(\"Estimated transactions per second with the development of Eth2\")"
   ]
  },
  {
   "cell_type": "markdown",
   "metadata": {},
   "source": [
    "### With this clear goal of increasing the Transactions Per Second, and roadmap in mind, let's dive deeper into the concepts which will allow the initial Eth2 increase"
   ]
  },
  {
   "cell_type": "code",
   "execution_count": null,
   "metadata": {},
   "outputs": [],
   "source": []
  },
  {
   "cell_type": "markdown",
   "metadata": {},
   "source": [
    "- **The Beacon chain**: This is the initial step towards scaling ethereum's \"layer 1\". On the Eth2 roadmap, the deployment of the Beacon Chain will be done on the Phase 0.\n",
    "\n",
    "- **The sidechains**: These are connected with the beacon chain\n",
    "\n",
    "- **Slots**\n",
    "\n",
    "- **Epochs**\n",
    "\n",
    "- **Validators**: Individuals who participate by proposing and attesting for blocks. \n",
    "\n",
    " - **Penalties**:\n",
    "\n",
    " - **Slashing**:"
   ]
  },
  {
   "cell_type": "code",
   "execution_count": 43,
   "metadata": {},
   "outputs": [
    {
     "name": "stdout",
     "output_type": "stream",
     "text": [
      "ready for some more eth data?\n"
     ]
    }
   ],
   "source": [
    "print('ready for some more eth data?')"
   ]
  },
  {
   "cell_type": "code",
   "execution_count": 10,
   "metadata": {},
   "outputs": [],
   "source": [
    "data = 'data/09_16_20/attestations_1.csv' "
   ]
  },
  {
   "cell_type": "code",
   "execution_count": 11,
   "metadata": {},
   "outputs": [],
   "source": [
    "df = pd.read_csv(data)"
   ]
  },
  {
   "cell_type": "code",
   "execution_count": 42,
   "metadata": {},
   "outputs": [
    {
     "name": "stdout",
     "output_type": "stream",
     "text": [
      "df.size=14\n",
      "df.shape=(7, 2)\n",
      "df.columns=Index(['low', 'high'], dtype='object')\n"
     ]
    },
    {
     "data": {
      "text/html": [
       "<div>\n",
       "<style scoped>\n",
       "    .dataframe tbody tr th:only-of-type {\n",
       "        vertical-align: middle;\n",
       "    }\n",
       "\n",
       "    .dataframe tbody tr th {\n",
       "        vertical-align: top;\n",
       "    }\n",
       "\n",
       "    .dataframe thead th {\n",
       "        text-align: right;\n",
       "    }\n",
       "</style>\n",
       "<table border=\"1\" class=\"dataframe\">\n",
       "  <thead>\n",
       "    <tr style=\"text-align: right;\">\n",
       "      <th></th>\n",
       "      <th>low</th>\n",
       "      <th>high</th>\n",
       "    </tr>\n",
       "  </thead>\n",
       "  <tbody>\n",
       "    <tr>\n",
       "      <th>count</th>\n",
       "      <td>7.000000</td>\n",
       "      <td>7.000000</td>\n",
       "    </tr>\n",
       "    <tr>\n",
       "      <th>mean</th>\n",
       "      <td>5788.285714</td>\n",
       "      <td>18291.000000</td>\n",
       "    </tr>\n",
       "    <tr>\n",
       "      <th>std</th>\n",
       "      <td>9043.602466</td>\n",
       "      <td>36272.294712</td>\n",
       "    </tr>\n",
       "    <tr>\n",
       "      <th>min</th>\n",
       "      <td>3.000000</td>\n",
       "      <td>7.000000</td>\n",
       "    </tr>\n",
       "    <tr>\n",
       "      <th>25%</th>\n",
       "      <td>507.500000</td>\n",
       "      <td>1515.000000</td>\n",
       "    </tr>\n",
       "    <tr>\n",
       "      <th>50%</th>\n",
       "      <td>1500.000000</td>\n",
       "      <td>5000.000000</td>\n",
       "    </tr>\n",
       "    <tr>\n",
       "      <th>75%</th>\n",
       "      <td>6500.000000</td>\n",
       "      <td>10000.000000</td>\n",
       "    </tr>\n",
       "    <tr>\n",
       "      <th>max</th>\n",
       "      <td>25000.000000</td>\n",
       "      <td>100000.000000</td>\n",
       "    </tr>\n",
       "  </tbody>\n",
       "</table>\n",
       "</div>"
      ],
      "text/plain": [
       "                low           high\n",
       "count      7.000000       7.000000\n",
       "mean    5788.285714   18291.000000\n",
       "std     9043.602466   36272.294712\n",
       "min        3.000000       7.000000\n",
       "25%      507.500000    1515.000000\n",
       "50%     1500.000000    5000.000000\n",
       "75%     6500.000000   10000.000000\n",
       "max    25000.000000  100000.000000"
      ]
     },
     "execution_count": 42,
     "metadata": {},
     "output_type": "execute_result"
    }
   ],
   "source": [
    "print(f\"{df.size=}\")\n",
    "print(f\"{df.shape=}\")\n",
    "print(f\"{df.columns=}\")\n",
    "df.describe()"
   ]
  },
  {
   "cell_type": "code",
   "execution_count": 16,
   "metadata": {},
   "outputs": [
    {
     "data": {
      "text/html": [
       "<div>\n",
       "<style scoped>\n",
       "    .dataframe tbody tr th:only-of-type {\n",
       "        vertical-align: middle;\n",
       "    }\n",
       "\n",
       "    .dataframe tbody tr th {\n",
       "        vertical-align: top;\n",
       "    }\n",
       "\n",
       "    .dataframe thead th {\n",
       "        text-align: right;\n",
       "    }\n",
       "</style>\n",
       "<table border=\"1\" class=\"dataframe\">\n",
       "  <thead>\n",
       "    <tr style=\"text-align: right;\">\n",
       "      <th></th>\n",
       "      <th>slot</th>\n",
       "      <th>beacon_block_root</th>\n",
       "      <th>attesting_indices</th>\n",
       "      <th>source_epoch</th>\n",
       "      <th>source_block_root</th>\n",
       "      <th>target_epoch</th>\n",
       "      <th>target_block_root</th>\n",
       "    </tr>\n",
       "  </thead>\n",
       "  <tbody>\n",
       "    <tr>\n",
       "      <th>0</th>\n",
       "      <td>64590</td>\n",
       "      <td>0x2622bb6825cbd8041bfb719ecc8cec31a8e39881a472...</td>\n",
       "      <td>0000000000000000000000000001000000001000000000...</td>\n",
       "      <td>2017</td>\n",
       "      <td>0xd0fe548ffd8197f58814300ed02471ae8d386e0fc24e...</td>\n",
       "      <td>2018</td>\n",
       "      <td>0xabcbd38d70fd0123c136a4593d820bdef1fc94251a44...</td>\n",
       "    </tr>\n",
       "    <tr>\n",
       "      <th>1</th>\n",
       "      <td>64590</td>\n",
       "      <td>0x3de5c03066e9c33694f5af05d8c2150fc634ed96bffe...</td>\n",
       "      <td>1011100101101011001111010110111101001111111111...</td>\n",
       "      <td>2017</td>\n",
       "      <td>0xd0fe548ffd8197f58814300ed02471ae8d386e0fc24e...</td>\n",
       "      <td>2018</td>\n",
       "      <td>0xabcbd38d70fd0123c136a4593d820bdef1fc94251a44...</td>\n",
       "    </tr>\n",
       "    <tr>\n",
       "      <th>2</th>\n",
       "      <td>64590</td>\n",
       "      <td>0x3de5c03066e9c33694f5af05d8c2150fc634ed96bffe...</td>\n",
       "      <td>0011110100111110101011011110100111001011000111...</td>\n",
       "      <td>2017</td>\n",
       "      <td>0xd0fe548ffd8197f58814300ed02471ae8d386e0fc24e...</td>\n",
       "      <td>2018</td>\n",
       "      <td>0xabcbd38d70fd0123c136a4593d820bdef1fc94251a44...</td>\n",
       "    </tr>\n",
       "    <tr>\n",
       "      <th>3</th>\n",
       "      <td>64590</td>\n",
       "      <td>0x2622bb6825cbd8041bfb719ecc8cec31a8e39881a472...</td>\n",
       "      <td>0000000000000000000000000000000000000000000000...</td>\n",
       "      <td>2017</td>\n",
       "      <td>0xd0fe548ffd8197f58814300ed02471ae8d386e0fc24e...</td>\n",
       "      <td>2018</td>\n",
       "      <td>0xabcbd38d70fd0123c136a4593d820bdef1fc94251a44...</td>\n",
       "    </tr>\n",
       "    <tr>\n",
       "      <th>4</th>\n",
       "      <td>64590</td>\n",
       "      <td>0x2622bb6825cbd8041bfb719ecc8cec31a8e39881a472...</td>\n",
       "      <td>0000000000000000000000000000001000000000000000...</td>\n",
       "      <td>2017</td>\n",
       "      <td>0xd0fe548ffd8197f58814300ed02471ae8d386e0fc24e...</td>\n",
       "      <td>2018</td>\n",
       "      <td>0xabcbd38d70fd0123c136a4593d820bdef1fc94251a44...</td>\n",
       "    </tr>\n",
       "  </tbody>\n",
       "</table>\n",
       "</div>"
      ],
      "text/plain": [
       "    slot                                  beacon_block_root  \\\n",
       "0  64590  0x2622bb6825cbd8041bfb719ecc8cec31a8e39881a472...   \n",
       "1  64590  0x3de5c03066e9c33694f5af05d8c2150fc634ed96bffe...   \n",
       "2  64590  0x3de5c03066e9c33694f5af05d8c2150fc634ed96bffe...   \n",
       "3  64590  0x2622bb6825cbd8041bfb719ecc8cec31a8e39881a472...   \n",
       "4  64590  0x2622bb6825cbd8041bfb719ecc8cec31a8e39881a472...   \n",
       "\n",
       "                                   attesting_indices  source_epoch  \\\n",
       "0  0000000000000000000000000001000000001000000000...          2017   \n",
       "1  1011100101101011001111010110111101001111111111...          2017   \n",
       "2  0011110100111110101011011110100111001011000111...          2017   \n",
       "3  0000000000000000000000000000000000000000000000...          2017   \n",
       "4  0000000000000000000000000000001000000000000000...          2017   \n",
       "\n",
       "                                   source_block_root  target_epoch  \\\n",
       "0  0xd0fe548ffd8197f58814300ed02471ae8d386e0fc24e...          2018   \n",
       "1  0xd0fe548ffd8197f58814300ed02471ae8d386e0fc24e...          2018   \n",
       "2  0xd0fe548ffd8197f58814300ed02471ae8d386e0fc24e...          2018   \n",
       "3  0xd0fe548ffd8197f58814300ed02471ae8d386e0fc24e...          2018   \n",
       "4  0xd0fe548ffd8197f58814300ed02471ae8d386e0fc24e...          2018   \n",
       "\n",
       "                                   target_block_root  \n",
       "0  0xabcbd38d70fd0123c136a4593d820bdef1fc94251a44...  \n",
       "1  0xabcbd38d70fd0123c136a4593d820bdef1fc94251a44...  \n",
       "2  0xabcbd38d70fd0123c136a4593d820bdef1fc94251a44...  \n",
       "3  0xabcbd38d70fd0123c136a4593d820bdef1fc94251a44...  \n",
       "4  0xabcbd38d70fd0123c136a4593d820bdef1fc94251a44...  "
      ]
     },
     "execution_count": 16,
     "metadata": {},
     "output_type": "execute_result"
    }
   ],
   "source": [
    "df.head()"
   ]
  },
  {
   "cell_type": "code",
   "execution_count": 17,
   "metadata": {},
   "outputs": [
    {
     "data": {
      "text/html": [
       "<div>\n",
       "<style scoped>\n",
       "    .dataframe tbody tr th:only-of-type {\n",
       "        vertical-align: middle;\n",
       "    }\n",
       "\n",
       "    .dataframe tbody tr th {\n",
       "        vertical-align: top;\n",
       "    }\n",
       "\n",
       "    .dataframe thead th {\n",
       "        text-align: right;\n",
       "    }\n",
       "</style>\n",
       "<table border=\"1\" class=\"dataframe\">\n",
       "  <thead>\n",
       "    <tr style=\"text-align: right;\">\n",
       "      <th></th>\n",
       "      <th>slot</th>\n",
       "      <th>beacon_block_root</th>\n",
       "      <th>attesting_indices</th>\n",
       "      <th>source_epoch</th>\n",
       "      <th>source_block_root</th>\n",
       "      <th>target_epoch</th>\n",
       "      <th>target_block_root</th>\n",
       "    </tr>\n",
       "  </thead>\n",
       "  <tbody>\n",
       "    <tr>\n",
       "      <th>50848</th>\n",
       "      <td>37964</td>\n",
       "      <td>0xaec224ceeb5b762110803d91b8c28d96f000341c75b6...</td>\n",
       "      <td>0000000000000000000000000000000000000000000000...</td>\n",
       "      <td>1184</td>\n",
       "      <td>0x7a3ec53ae4dd06b003cdf7281e11f88be6b64e64ea05...</td>\n",
       "      <td>1185</td>\n",
       "      <td>0x48397603666de6bb3cf216832668006970c9fd5856ae...</td>\n",
       "    </tr>\n",
       "    <tr>\n",
       "      <th>50849</th>\n",
       "      <td>37964</td>\n",
       "      <td>0xaec224ceeb5b762110803d91b8c28d96f000341c75b6...</td>\n",
       "      <td>0000000000000000000000000000000000000000000000...</td>\n",
       "      <td>1184</td>\n",
       "      <td>0x7a3ec53ae4dd06b003cdf7281e11f88be6b64e64ea05...</td>\n",
       "      <td>1185</td>\n",
       "      <td>0x48397603666de6bb3cf216832668006970c9fd5856ae...</td>\n",
       "    </tr>\n",
       "    <tr>\n",
       "      <th>50850</th>\n",
       "      <td>37964</td>\n",
       "      <td>0xe5bc232783b46ac9fe01bc15895f6b32d1901095510b...</td>\n",
       "      <td>0000000000000000000000000000000000000000000000...</td>\n",
       "      <td>1185</td>\n",
       "      <td>0x48397603666de6bb3cf216832668006970c9fd5856ae...</td>\n",
       "      <td>1186</td>\n",
       "      <td>0xc293b248d7f0de88f85c8693eb9537dd271e71b0b530...</td>\n",
       "    </tr>\n",
       "    <tr>\n",
       "      <th>50851</th>\n",
       "      <td>37964</td>\n",
       "      <td>0x78962523169aa1448ebc81b82fb1f01eca73cb7f8316...</td>\n",
       "      <td>0000000000000000000000000000000000000000000000...</td>\n",
       "      <td>1185</td>\n",
       "      <td>0x48397603666de6bb3cf216832668006970c9fd5856ae...</td>\n",
       "      <td>1186</td>\n",
       "      <td>0xc293b248d7f0de88f85c8693eb9537dd271e71b0b530...</td>\n",
       "    </tr>\n",
       "    <tr>\n",
       "      <th>50852</th>\n",
       "      <td>37964</td>\n",
       "      <td>0x01454d5b36faafbb9b1ba3211fb6db33d6a5194f556a...</td>\n",
       "      <td>0000000000000000000000000000000000000000000100...</td>\n",
       "      <td>1184</td>\n",
       "      <td>0x7a3ec53ae4dd06b003cdf7281e11f88be6b64e64ea05...</td>\n",
       "      <td>1185</td>\n",
       "      <td>0x48397603666de6bb3cf216832668006970c9fd5856ae...</td>\n",
       "    </tr>\n",
       "  </tbody>\n",
       "</table>\n",
       "</div>"
      ],
      "text/plain": [
       "        slot                                  beacon_block_root  \\\n",
       "50848  37964  0xaec224ceeb5b762110803d91b8c28d96f000341c75b6...   \n",
       "50849  37964  0xaec224ceeb5b762110803d91b8c28d96f000341c75b6...   \n",
       "50850  37964  0xe5bc232783b46ac9fe01bc15895f6b32d1901095510b...   \n",
       "50851  37964  0x78962523169aa1448ebc81b82fb1f01eca73cb7f8316...   \n",
       "50852  37964  0x01454d5b36faafbb9b1ba3211fb6db33d6a5194f556a...   \n",
       "\n",
       "                                       attesting_indices  source_epoch  \\\n",
       "50848  0000000000000000000000000000000000000000000000...          1184   \n",
       "50849  0000000000000000000000000000000000000000000000...          1184   \n",
       "50850  0000000000000000000000000000000000000000000000...          1185   \n",
       "50851  0000000000000000000000000000000000000000000000...          1185   \n",
       "50852  0000000000000000000000000000000000000000000100...          1184   \n",
       "\n",
       "                                       source_block_root  target_epoch  \\\n",
       "50848  0x7a3ec53ae4dd06b003cdf7281e11f88be6b64e64ea05...          1185   \n",
       "50849  0x7a3ec53ae4dd06b003cdf7281e11f88be6b64e64ea05...          1185   \n",
       "50850  0x48397603666de6bb3cf216832668006970c9fd5856ae...          1186   \n",
       "50851  0x48397603666de6bb3cf216832668006970c9fd5856ae...          1186   \n",
       "50852  0x7a3ec53ae4dd06b003cdf7281e11f88be6b64e64ea05...          1185   \n",
       "\n",
       "                                       target_block_root  \n",
       "50848  0x48397603666de6bb3cf216832668006970c9fd5856ae...  \n",
       "50849  0x48397603666de6bb3cf216832668006970c9fd5856ae...  \n",
       "50850  0xc293b248d7f0de88f85c8693eb9537dd271e71b0b530...  \n",
       "50851  0xc293b248d7f0de88f85c8693eb9537dd271e71b0b530...  \n",
       "50852  0x48397603666de6bb3cf216832668006970c9fd5856ae...  "
      ]
     },
     "execution_count": 17,
     "metadata": {},
     "output_type": "execute_result"
    }
   ],
   "source": [
    "df.tail()"
   ]
  },
  {
   "cell_type": "code",
   "execution_count": 18,
   "metadata": {},
   "outputs": [
    {
     "data": {
      "text/plain": [
       "998"
      ]
     },
     "execution_count": 18,
     "metadata": {},
     "output_type": "execute_result"
    }
   ],
   "source": [
    "df.slot.unique().size"
   ]
  }
 ],
 "metadata": {
  "kernelspec": {
   "display_name": "Python 3",
   "language": "python",
   "name": "python3"
  },
  "language_info": {
   "codemirror_mode": {
    "name": "ipython",
    "version": 3
   },
   "file_extension": ".py",
   "mimetype": "text/x-python",
   "name": "python",
   "nbconvert_exporter": "python",
   "pygments_lexer": "ipython3",
   "version": "3.8.6"
  }
 },
 "nbformat": 4,
 "nbformat_minor": 4
}
