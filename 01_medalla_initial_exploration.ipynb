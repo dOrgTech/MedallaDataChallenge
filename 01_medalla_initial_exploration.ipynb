{
 "cells": [
  {
   "cell_type": "code",
   "execution_count": 2,
   "metadata": {},
   "outputs": [
    {
     "name": "stdout",
     "output_type": "stream",
     "text": [
      "Python 3.8.6\r\n"
     ]
    }
   ],
   "source": [
    "!python3 --version"
   ]
  },
  {
   "cell_type": "code",
   "execution_count": 3,
   "metadata": {},
   "outputs": [],
   "source": [
    "import pandas as pd\n",
    "import seaborn as sns"
   ]
  },
  {
   "cell_type": "code",
   "execution_count": 5,
   "metadata": {},
   "outputs": [
    {
     "name": "stdout",
     "output_type": "stream",
     "text": [
      "ready for some more eth data?\n"
     ]
    }
   ],
   "source": [
    "print('ready for some more eth data?')"
   ]
  },
  {
   "cell_type": "code",
   "execution_count": 19,
   "metadata": {},
   "outputs": [],
   "source": [
    "data = 'data/09_16_20/attestations_1.csv' "
   ]
  },
  {
   "cell_type": "code",
   "execution_count": 20,
   "metadata": {},
   "outputs": [],
   "source": [
    "df = pd.read_csv(data)"
   ]
  },
  {
   "cell_type": "code",
   "execution_count": 23,
   "metadata": {},
   "outputs": [
    {
     "data": {
      "text/html": [
       "<div>\n",
       "<style scoped>\n",
       "    .dataframe tbody tr th:only-of-type {\n",
       "        vertical-align: middle;\n",
       "    }\n",
       "\n",
       "    .dataframe tbody tr th {\n",
       "        vertical-align: top;\n",
       "    }\n",
       "\n",
       "    .dataframe thead th {\n",
       "        text-align: right;\n",
       "    }\n",
       "</style>\n",
       "<table border=\"1\" class=\"dataframe\">\n",
       "  <thead>\n",
       "    <tr style=\"text-align: right;\">\n",
       "      <th></th>\n",
       "      <th>slot</th>\n",
       "      <th>beacon_block_root</th>\n",
       "      <th>attesting_indices</th>\n",
       "      <th>source_epoch</th>\n",
       "      <th>source_block_root</th>\n",
       "      <th>target_epoch</th>\n",
       "      <th>target_block_root</th>\n",
       "    </tr>\n",
       "  </thead>\n",
       "  <tbody>\n",
       "    <tr>\n",
       "      <th>0</th>\n",
       "      <td>64590</td>\n",
       "      <td>0x2622bb6825cbd8041bfb719ecc8cec31a8e39881a472...</td>\n",
       "      <td>0000000000000000000000000001000000001000000000...</td>\n",
       "      <td>2017</td>\n",
       "      <td>0xd0fe548ffd8197f58814300ed02471ae8d386e0fc24e...</td>\n",
       "      <td>2018</td>\n",
       "      <td>0xabcbd38d70fd0123c136a4593d820bdef1fc94251a44...</td>\n",
       "    </tr>\n",
       "    <tr>\n",
       "      <th>1</th>\n",
       "      <td>64590</td>\n",
       "      <td>0x3de5c03066e9c33694f5af05d8c2150fc634ed96bffe...</td>\n",
       "      <td>1011100101101011001111010110111101001111111111...</td>\n",
       "      <td>2017</td>\n",
       "      <td>0xd0fe548ffd8197f58814300ed02471ae8d386e0fc24e...</td>\n",
       "      <td>2018</td>\n",
       "      <td>0xabcbd38d70fd0123c136a4593d820bdef1fc94251a44...</td>\n",
       "    </tr>\n",
       "    <tr>\n",
       "      <th>2</th>\n",
       "      <td>64590</td>\n",
       "      <td>0x3de5c03066e9c33694f5af05d8c2150fc634ed96bffe...</td>\n",
       "      <td>0011110100111110101011011110100111001011000111...</td>\n",
       "      <td>2017</td>\n",
       "      <td>0xd0fe548ffd8197f58814300ed02471ae8d386e0fc24e...</td>\n",
       "      <td>2018</td>\n",
       "      <td>0xabcbd38d70fd0123c136a4593d820bdef1fc94251a44...</td>\n",
       "    </tr>\n",
       "    <tr>\n",
       "      <th>3</th>\n",
       "      <td>64590</td>\n",
       "      <td>0x2622bb6825cbd8041bfb719ecc8cec31a8e39881a472...</td>\n",
       "      <td>0000000000000000000000000000000000000000000000...</td>\n",
       "      <td>2017</td>\n",
       "      <td>0xd0fe548ffd8197f58814300ed02471ae8d386e0fc24e...</td>\n",
       "      <td>2018</td>\n",
       "      <td>0xabcbd38d70fd0123c136a4593d820bdef1fc94251a44...</td>\n",
       "    </tr>\n",
       "    <tr>\n",
       "      <th>4</th>\n",
       "      <td>64590</td>\n",
       "      <td>0x2622bb6825cbd8041bfb719ecc8cec31a8e39881a472...</td>\n",
       "      <td>0000000000000000000000000000001000000000000000...</td>\n",
       "      <td>2017</td>\n",
       "      <td>0xd0fe548ffd8197f58814300ed02471ae8d386e0fc24e...</td>\n",
       "      <td>2018</td>\n",
       "      <td>0xabcbd38d70fd0123c136a4593d820bdef1fc94251a44...</td>\n",
       "    </tr>\n",
       "  </tbody>\n",
       "</table>\n",
       "</div>"
      ],
      "text/plain": [
       "    slot                                  beacon_block_root  \\\n",
       "0  64590  0x2622bb6825cbd8041bfb719ecc8cec31a8e39881a472...   \n",
       "1  64590  0x3de5c03066e9c33694f5af05d8c2150fc634ed96bffe...   \n",
       "2  64590  0x3de5c03066e9c33694f5af05d8c2150fc634ed96bffe...   \n",
       "3  64590  0x2622bb6825cbd8041bfb719ecc8cec31a8e39881a472...   \n",
       "4  64590  0x2622bb6825cbd8041bfb719ecc8cec31a8e39881a472...   \n",
       "\n",
       "                                   attesting_indices  source_epoch  \\\n",
       "0  0000000000000000000000000001000000001000000000...          2017   \n",
       "1  1011100101101011001111010110111101001111111111...          2017   \n",
       "2  0011110100111110101011011110100111001011000111...          2017   \n",
       "3  0000000000000000000000000000000000000000000000...          2017   \n",
       "4  0000000000000000000000000000001000000000000000...          2017   \n",
       "\n",
       "                                   source_block_root  target_epoch  \\\n",
       "0  0xd0fe548ffd8197f58814300ed02471ae8d386e0fc24e...          2018   \n",
       "1  0xd0fe548ffd8197f58814300ed02471ae8d386e0fc24e...          2018   \n",
       "2  0xd0fe548ffd8197f58814300ed02471ae8d386e0fc24e...          2018   \n",
       "3  0xd0fe548ffd8197f58814300ed02471ae8d386e0fc24e...          2018   \n",
       "4  0xd0fe548ffd8197f58814300ed02471ae8d386e0fc24e...          2018   \n",
       "\n",
       "                                   target_block_root  \n",
       "0  0xabcbd38d70fd0123c136a4593d820bdef1fc94251a44...  \n",
       "1  0xabcbd38d70fd0123c136a4593d820bdef1fc94251a44...  \n",
       "2  0xabcbd38d70fd0123c136a4593d820bdef1fc94251a44...  \n",
       "3  0xabcbd38d70fd0123c136a4593d820bdef1fc94251a44...  \n",
       "4  0xabcbd38d70fd0123c136a4593d820bdef1fc94251a44...  "
      ]
     },
     "execution_count": 23,
     "metadata": {},
     "output_type": "execute_result"
    }
   ],
   "source": [
    "df.head()"
   ]
  },
  {
   "cell_type": "code",
   "execution_count": null,
   "metadata": {},
   "outputs": [],
   "source": []
  },
  {
   "cell_type": "code",
   "execution_count": null,
   "metadata": {},
   "outputs": [],
   "source": []
  }
 ],
 "metadata": {
  "kernelspec": {
   "display_name": "Python 3",
   "language": "python",
   "name": "python3"
  },
  "language_info": {
   "codemirror_mode": {
    "name": "ipython",
    "version": 3
   },
   "file_extension": ".py",
   "mimetype": "text/x-python",
   "name": "python",
   "nbconvert_exporter": "python",
   "pygments_lexer": "ipython3",
   "version": "3.8.6"
  }
 },
 "nbformat": 4,
 "nbformat_minor": 4
}
