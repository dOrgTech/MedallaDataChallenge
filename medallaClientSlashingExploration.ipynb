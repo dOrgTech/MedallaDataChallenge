{
 "cells": [
  {
   "cell_type": "markdown",
   "metadata": {},
   "source": [
    "# Medalla: Exploring the data behind Eth2"
   ]
  },
  {
   "cell_type": "markdown",
   "metadata": {},
   "source": [
    "### This analysis aims to extract insights from statistics compiled from validators running the eth2.0 phase 0 multi-client beacon chain testnet, `Medalla`.\n",
    "\n",
    "### Our main objective is to explore the concept of `slashed validators`, while also diving specifically into which of  the `Eth2 clients` that validators use have been the most slashed.\n",
    "\n",
    "Since Ethereum project launched in 2015, through all these years there have been many upgrades: \n",
    "-    Frontier,\n",
    "-    Frontier Thawing,\n",
    "-    Homestead,\n",
    "-    Dao Fork,\n",
    "-    Spurius Dragon,\n",
    "-    Byzantium,\n",
    "-    Constantinople and\n",
    "-    Istanbul.\n",
    "    \n",
    "These have forged the network we know today as `Eth1 chain` or `Proof of Work chain`. The roadmap for the Ethereum technology is shifting paradigms, in order to adopt a new `Proof of Stake` methodology, which in essence changes the way the decissions of valid computations are done in the Ethereum network. When deployed in their entirity, this change would bring new security and scalability to the entire Ethereum network, and users will be able to migrate voluntarily from `Eth1` to `Eth2`.\n",
    "\n",
    "Before we dig deeper into data, we’ll briefly cover what’s going on behind Eth2, and why it’s different from the current state of Ethereum. \n",
    "\n",
    "In general terms, the Ethereum network is currently: \n",
    "\n",
    " - Slow and difficult to scale, processing from 15 to 30 transactions per second.\n",
    " - In *potencial risk* of centralization from mining pools and other large actors. \n",
    " - At full capacity and with high transaction fees, with some large contract calls costing as much as 40 USD.\n",
    " - Still increasing in usage as of October 2020.\n",
    "    \n",
    "This has been enough for the Ethereum community to begin working towards a new, more verstile, and robust approach.\n",
    "    \n",
    "## eth2.0 phases\n",
    "\n",
    "Eth2.0 is major upgrade when compared to the current state of Ethereum: *a transition from proof of work to proof of stake*. [This current roadmap is divided in 4 phases](https://docs.ethhub.io/ethereum-roadmap/ethereum-2.0/eth-2.0-phases/):\n",
    "\n",
    " -  Phase 0 - Beacon chain\n",
    " -  Phase 1 - Data sharding\n",
    " -  Phase 2 - State + execution\n",
    " -  Phase 3 - STARKS, further scaling\n",
    "    \n",
    "> ## `Medalla` is the final test before the launch of phase 0 of Ethereum2.0 update. \n",
    "\n",
    "This Medalla testnet has been running for more than 2 months on top of the Görli testnet, and so far it is being constantly validated by five main clients, including:\n",
    "- Prysmatic Labs (Prysm), \n",
    "- ChainSafe’s (Lodestar), \n",
    "- PegaSys’ (Teku), \n",
    "- Status’ (Nimbus) \n",
    "- and Sigma Prime’s (Lighthouse)."
   ]
  },
  {
   "cell_type": "code",
   "execution_count": 1,
   "metadata": {
    "scrolled": true
   },
   "outputs": [
    {
     "name": "stdout",
     "output_type": "stream",
     "text": [
      "\n",
      "\n",
      "We'll use a combination of well known python libraries \n",
      "and a PostgreSQL database dump to build a primitive data\n",
      "pipeline which can be used by junior data scientists to\n",
      "further understand about validators, clients, and slashing.\n",
      "\n",
      "So, are you ready for some eth data?\n",
      "\n",
      "\n"
     ]
    }
   ],
   "source": [
    "print(\"\"\"\n",
    "\n",
    "We'll use a combination of well known python libraries \n",
    "and a PostgreSQL database dump to build a primitive data\n",
    "pipeline which can be used by junior data scientists to\n",
    "further understand about validators, clients, and slashing.\n",
    "\n",
    "So, are you ready for some eth data?\n",
    "\n",
    "\"\"\")"
   ]
  },
  {
   "cell_type": "code",
   "execution_count": 2,
   "metadata": {},
   "outputs": [
    {
     "name": "stdout",
     "output_type": "stream",
     "text": [
      "Python 3.8.6\r\n"
     ]
    }
   ],
   "source": [
    "!python3 --version"
   ]
  },
  {
   "cell_type": "code",
   "execution_count": 3,
   "metadata": {},
   "outputs": [],
   "source": [
    "# import your modules\n",
    "import psycopg2\n",
    "import pandas as pd\n",
    "from matplotlib import pyplot as plt\n",
    "import seaborn as sns\n",
    "import sqlalchemy"
   ]
  },
  {
   "cell_type": "markdown",
   "metadata": {},
   "source": [
    "## 🏅 Part I - Basic network comparisons\n",
    "\n",
    "To begin, here's a quick comparison of the transactions per second on the Bitcoin network vs the Ethereum network today."
   ]
  },
  {
   "cell_type": "code",
   "execution_count": 4,
   "metadata": {},
   "outputs": [
    {
     "data": {
      "text/plain": [
       "Text(0.5, 1.0, 'Estimated transactions per second on the different networks')"
      ]
     },
     "execution_count": 4,
     "metadata": {},
     "output_type": "execute_result"
    },
    {
     "data": {
      "image/png": "[encoded data removed]",
      "text/plain": [
       "<Figure size 432x288 with 1 Axes>"
      ]
     },
     "metadata": {
      "needs_background": "light"
     },
     "output_type": "display_data"
    }
   ],
   "source": [
    "networks = {\"Bitcoin\":(3,7),\n",
    "           \"Ethereum\":(15,45)}\n",
    "\n",
    "df = pd.DataFrame.from_dict(networks).transpose()\n",
    "df.columns = (\"low\", \"high\")\n",
    "\n",
    "df.plot.bar()\n",
    "plt.title(\"Estimated transactions per second on the different networks\")"
   ]
  },
  {
   "cell_type": "markdown",
   "metadata": {},
   "source": [
    "### For Eth2, we want to increase scalability (Transactions Per Second) of the network while not compromising decentralization. \n",
    "\n",
    "When compared to other centralized solutions like Visa, which can process around 10.000 transactions per second, the current state of the Ethereum technology falls greatly behind. This is one of the reasons why the technology is not prepared for massive adoption, and why initiatives like Ethereum 2.0 are currently being pushed forward so behemently.\n",
    "\n",
    ">Vitalik Buterin estimates that once **optimistic rollups** are fully implemented and the transition to Eth2 begins, the Ethereum network will be able to process 100,000 transactions per second (during Phase 1.5). In Eth2, with its sharded infrastructure, 1000-5000 TPS will be achievable.\n",
    "\n",
    "It is important to note that while the deployment of Eth2's Phase 0 will not increase the Layer 1 Transactions Per Second, today there are various **rollup solutions** which would allow a [100x scaling](https://twitter.com/VitalikButerin/status/1312905882330521600) of the current network.\n",
    "\n",
    "Let's visualize these concepts for comparison, while considering other technologies like EOS and Visa:"
   ]
  },
  {
   "cell_type": "code",
   "execution_count": 5,
   "metadata": {},
   "outputs": [],
   "source": [
    "networks[\"Ethereum w/ rollups\"] = (1500, 3000)\n",
    "networks[\"Eth2 (Phase 1.5)\"] = (1000, 5000) \n",
    "networks[\"Eth2 (Phase 1.5) w/ rollups\"] = (25000, 100000) \n",
    "networks[\"EOS\"] = (4000,9000)\n",
    "networks[\"Visa\"] = (9000,11000)"
   ]
  },
  {
   "cell_type": "code",
   "execution_count": 6,
   "metadata": {
    "scrolled": false
   },
   "outputs": [
    {
     "data": {
      "text/html": [
       "<div>\n",
       "<style scoped>\n",
       "    .dataframe tbody tr th:only-of-type {\n",
       "        vertical-align: middle;\n",
       "    }\n",
       "\n",
       "    .dataframe tbody tr th {\n",
       "        vertical-align: top;\n",
       "    }\n",
       "\n",
       "    .dataframe thead th {\n",
       "        text-align: right;\n",
       "    }\n",
       "</style>\n",
       "<table border=\"1\" class=\"dataframe\">\n",
       "  <thead>\n",
       "    <tr style=\"text-align: right;\">\n",
       "      <th></th>\n",
       "      <th>low</th>\n",
       "      <th>high</th>\n",
       "    </tr>\n",
       "  </thead>\n",
       "  <tbody>\n",
       "    <tr>\n",
       "      <th>Bitcoin</th>\n",
       "      <td>3</td>\n",
       "      <td>7</td>\n",
       "    </tr>\n",
       "    <tr>\n",
       "      <th>Ethereum</th>\n",
       "      <td>15</td>\n",
       "      <td>45</td>\n",
       "    </tr>\n",
       "    <tr>\n",
       "      <th>Eth2 (Phase 1.5)</th>\n",
       "      <td>1000</td>\n",
       "      <td>5000</td>\n",
       "    </tr>\n",
       "    <tr>\n",
       "      <th>Ethereum w/ rollups</th>\n",
       "      <td>1500</td>\n",
       "      <td>3000</td>\n",
       "    </tr>\n",
       "    <tr>\n",
       "      <th>EOS</th>\n",
       "      <td>4000</td>\n",
       "      <td>9000</td>\n",
       "    </tr>\n",
       "    <tr>\n",
       "      <th>Visa</th>\n",
       "      <td>9000</td>\n",
       "      <td>11000</td>\n",
       "    </tr>\n",
       "    <tr>\n",
       "      <th>Eth2 (Phase 1.5) w/ rollups</th>\n",
       "      <td>25000</td>\n",
       "      <td>100000</td>\n",
       "    </tr>\n",
       "  </tbody>\n",
       "</table>\n",
       "</div>"
      ],
      "text/plain": [
       "                               low    high\n",
       "Bitcoin                          3       7\n",
       "Ethereum                        15      45\n",
       "Eth2 (Phase 1.5)              1000    5000\n",
       "Ethereum w/ rollups           1500    3000\n",
       "EOS                           4000    9000\n",
       "Visa                          9000   11000\n",
       "Eth2 (Phase 1.5) w/ rollups  25000  100000"
      ]
     },
     "execution_count": 6,
     "metadata": {},
     "output_type": "execute_result"
    },
    {
     "data": {
      "image/png": "[encoded data removed]",
      "text/plain": [
       "<Figure size 432x288 with 1 Axes>"
      ]
     },
     "metadata": {
      "needs_background": "light"
     },
     "output_type": "display_data"
    }
   ],
   "source": [
    "df = pd.DataFrame.from_dict(networks).transpose()\n",
    "df.columns = (\"low\", \"high\")\n",
    "df = df.sort_values(by=[\"low\"])\n",
    "df.plot.bar()\n",
    "plt.title(\"Estimated transactions per second on the different networks\")\n",
    "df"
   ]
  },
  {
   "cell_type": "markdown",
   "metadata": {},
   "source": []
  },
  {
   "cell_type": "markdown",
   "metadata": {},
   "source": [
    "## 🏅 Part II - Ethereum Roadmap\n",
    "\n",
    "To continue, here is the result if we only consider Ethereum technology throughout their initial phases and with existing rollup technologies."
   ]
  },
  {
   "cell_type": "code",
   "execution_count": 7,
   "metadata": {
    "scrolled": false
   },
   "outputs": [
    {
     "data": {
      "text/plain": [
       "Text(0.5, 1.0, 'Estimated transactions per second with the development of Eth2')"
      ]
     },
     "execution_count": 7,
     "metadata": {},
     "output_type": "execute_result"
    },
    {
     "data": {
      "image/png": "[encoded data removed]",
      "text/plain": [
       "<Figure size 432x288 with 1 Axes>"
      ]
     },
     "metadata": {
      "needs_background": "light"
     },
     "output_type": "display_data"
    }
   ],
   "source": [
    "Eth_comparison = df.transpose()[[\"Ethereum\", \"Ethereum w/ rollups\", \"Eth2 (Phase 1.5)\", \"Eth2 (Phase 1.5) w/ rollups\"]].transpose()\n",
    "Eth_comparison.plot.bar()\n",
    "plt.title(\"Estimated transactions per second with the development of Eth2\")"
   ]
  },
  {
   "cell_type": "markdown",
   "metadata": {},
   "source": [
    "## As of today, we can achieve between 1500 and 3000 TPS in Eth1 with Rollups. \n",
    "\n",
    "This is a substantial increase when compared to the Bitcoin network, but falls short of solutions like Visa or EOS. Therefore, reaching Eth2 Phase 1.5 is crucial to increase the TPS of the network by several orders of magnitude.\n",
    "\n",
    "With a clear goal of increasing the Transactions Per Second and a roadmap in mind, let's dive deeper into the concepts which will allow the initial Eth2 increase"
   ]
  },
  {
   "cell_type": "markdown",
   "metadata": {},
   "source": [
    "- **The Beacon chain**: This is the initial step towards scaling ethereum's \"layer 1\". On the Eth2 roadmap, the deployment of the Beacon Chain will be done on the Phase 0. The Beacon chain manages the consensus, storing information about the approved active proof of stake validators in the system and what messages they have sent into the chain. It acts as a kind of central chain that the shard chains will eventually hold data into.\n",
    "\n",
    "\n",
    "- **The sidechains or Shards**: These are Ethereum Virtual Machines which are also connected with the beacon chain. They help lower the load of transactions from the beacon chain by storing most of the data in them, and passing only a gist of their information (in the shape of address balances, Merkle roots, or rollups).\n",
    "\n",
    "\n",
    "- **Slots**: `32 Slots = 1 Epoch`. A time period of 12 seconds in which a randomly chosen validator has time to propose a block. Each slot may or may not have a block in it. The total number of validators is split up in committees and one or more individual committees are responsible to attest to each slot. One validator from the committee will be chosen to be the aggregator, while the other 127 validators are attesting. After each Epoch, the validators are mixed and merged to new committees. There is a minimum of 128 validators per committee.\n",
    "\n",
    "\n",
    "- **Epochs**: `1 Epoch = 32 Slots`. Represents the number of 32 slots and takes approximately 6.4 minutes. Epochs play an important role when it comes to the validator queue and finality. \n",
    "\n",
    "\n",
    "- **Validators**: Individuals who participate by proposing and attesting for blocks. Validators need to deposit 32 ETH into the validator deposit contract on the Ethereum 1.0 chain. A validator has to be online for at least 50% of the time in order to have positive returns. \n",
    "\n",
    " \n",
    "- **Slasher**: The slasher's purpose is to find malicious validators in the Ethereum 2.0 network and report slashable offenses to the beacon-node. is its own entity but requires a beacon-node to receive attestations. To find malicious activity by validators, the slashers iterates through all received attestations until a slashable offense is found. Found slashings are broadcasted to the network and the next block proposer adds the proof to the block. The block proposer get the reward for slashing - not the whistleblower(=Slasher).\n",
    " \n",
    " \n",
    "- **Penalties**: It's a small negative reward for the validator (e.g. for going offline)\n",
    " \n",
    " \n",
    "- **Slashing**: Large penalty for the validator (1-32 eth of balance at staked) and a forceful exit. \n"
   ]
  },
  {
   "cell_type": "markdown",
   "metadata": {},
   "source": [
    "## 🏅 Part III - Data Wrangling\n",
    "\n",
    "And now, we'll use our data skills to build a primitive pipeline that answers the question:\n",
    "\n",
    "- `Which Eth2 clients are getting slashed?`\n",
    "\n"
   ]
  },
  {
   "cell_type": "markdown",
   "metadata": {},
   "source": [
    "The dataset:\n",
    "\n",
    "\n",
    "> We'll use in this case is the `chain-3416984.dmp`, exported from **ChainID**\n",
    "\n",
    ">This free tool was developed by [Jim McDonald @jgm](https://github.com/wealdtech/chaind). It connects to the Eth2 testnet and sources the information used below for the data pipeline. Initially, chainid is configured to work with PostgreSQL, the data is stored in a `BYTEA` format, which was not easily decodable during our exploration, but the richness of the chain dataset did bring benefits, even when using encoded data.\n",
    "\n",
    ">We have used the ChainID tables of `t_blocks` and `t_validators`\n",
    "\n",
    "> The columns of `f_index` and `f_proposer_index` respectively are the validator index. Every validator that enters the system is consecutively assigned a unique validator index number, so we have used this key piece of information to build our research."
   ]
  },
  {
   "cell_type": "markdown",
   "metadata": {},
   "source": [
    "The database:\n",
    "\n",
    "> We'll use sqlalchemy, which can read the PostgreSQL database, solely because it's the backbone of ChainID.\n",
    "\n",
    "> It is important to note again that the PostgreSQL data in question is mostly in `BYTEA` format, and decoding it was not straight forward. To save time, we have decided to use a simple apply/map of the graffiti `bytea` string and creating a new column on our dataframes to categorize the client used.\n",
    "\n",
    "\n"
   ]
  },
  {
   "cell_type": "code",
   "execution_count": 8,
   "metadata": {
    "scrolled": false
   },
   "outputs": [
    {
     "name": "stderr",
     "output_type": "stream",
     "text": [
      "<ipython-input-8-35e8229931e4>:13: SADeprecationWarning: The MetaData.reflect flag is deprecated and will be removed in a future release.   Please use the MetaData.reflect() method.\n",
      "  meta = sqlalchemy.MetaData(bind=con, reflect=True)\n"
     ]
    },
    {
     "data": {
      "text/plain": [
       "['t_attester_slashings',\n",
       " 't_voluntary_exits',\n",
       " 't_beacon_committees',\n",
       " 't_proposer_slashings',\n",
       " 't_metadata',\n",
       " 't_proposer_duties',\n",
       " 't_validators',\n",
       " 't_blocks',\n",
       " 't_attestations']"
      ]
     },
     "execution_count": 8,
     "metadata": {},
     "output_type": "execute_result"
    }
   ],
   "source": [
    "# Standard connection to the postgresql database with the chainid dataset\n",
    "\n",
    "def connect(user, password, db, host='localhost', port=5432):\n",
    "    '''Returns a connection and a metadata object'''\n",
    "    # We connect with the help of the PostgreSQL URL\n",
    "    url = 'postgresql://{}:{}@{}:{}/{}'\n",
    "    url = url.format(user, password, host, port, db)\n",
    "\n",
    "    # The return value of create_engine() is our connection object\n",
    "    con = sqlalchemy.create_engine(url, client_encoding='utf8')\n",
    "\n",
    "    # We then bind the connection to MetaData()\n",
    "    meta = sqlalchemy.MetaData(bind=con, reflect=True)\n",
    "\n",
    "    return con, meta\n",
    "\n",
    "conn, meta = connect('chain', 'medalla', 'chain')\n",
    "\n",
    "# printing the available tables\n",
    "conn.table_names()"
   ]
  },
  {
   "cell_type": "markdown",
   "metadata": {},
   "source": [
    "**Choosing the data**: \n",
    "\n",
    "> ## *The graffiti*\n",
    "\n",
    "> We'll use the `t_blocks` table, specifically checking the `f_graffiti` column data to identify the client being used by the validator. These graffitis are arbitrary strings of text that validators can purposely use to leave a message, and they are very often used to just list the client used to run the Eth2 validator node."
   ]
  },
  {
   "cell_type": "code",
   "execution_count": 9,
   "metadata": {
    "scrolled": true
   },
   "outputs": [
    {
     "name": "stdout",
     "output_type": "stream",
     "text": [
      "<class 'pandas.core.frame.DataFrame'>\n",
      "RangeIndex: 220369 entries, 0 to 220368\n",
      "Data columns (total 11 columns):\n",
      " #   Column                Non-Null Count   Dtype \n",
      "---  ------                --------------   ----- \n",
      " 0   f_slot                220369 non-null  int64 \n",
      " 1   f_proposer_index      220369 non-null  int64 \n",
      " 2   f_root                220369 non-null  object\n",
      " 3   f_graffiti            220369 non-null  object\n",
      " 4   f_randao_reveal       220369 non-null  object\n",
      " 5   f_body_root           220369 non-null  object\n",
      " 6   f_parent_root         220369 non-null  object\n",
      " 7   f_state_root          220369 non-null  object\n",
      " 8   f_eth1_block_hash     220369 non-null  object\n",
      " 9   f_eth1_deposit_count  220369 non-null  int64 \n",
      " 10  f_eth1_deposit_root   220369 non-null  object\n",
      "dtypes: int64(3), object(8)\n",
      "memory usage: 18.5+ MB\n",
      "None\n"
     ]
    }
   ],
   "source": [
    "blocks_df = pd.read_sql_table('t_blocks', con=conn)\n",
    "print(blocks_df.info())"
   ]
  },
  {
   "cell_type": "markdown",
   "metadata": {},
   "source": [
    "**Correct indexing**: \n",
    "\n",
    "We'll use the `f_proposer_index` column as the unique identifier of all validators."
   ]
  },
  {
   "cell_type": "code",
   "execution_count": 10,
   "metadata": {},
   "outputs": [
    {
     "data": {
      "text/html": [
       "<div>\n",
       "<style scoped>\n",
       "    .dataframe tbody tr th:only-of-type {\n",
       "        vertical-align: middle;\n",
       "    }\n",
       "\n",
       "    .dataframe tbody tr th {\n",
       "        vertical-align: top;\n",
       "    }\n",
       "\n",
       "    .dataframe thead th {\n",
       "        text-align: right;\n",
       "    }\n",
       "</style>\n",
       "<table border=\"1\" class=\"dataframe\">\n",
       "  <thead>\n",
       "    <tr style=\"text-align: right;\">\n",
       "      <th></th>\n",
       "      <th>f_slot</th>\n",
       "      <th>f_proposer_index</th>\n",
       "      <th>f_root</th>\n",
       "      <th>f_graffiti</th>\n",
       "      <th>f_randao_reveal</th>\n",
       "      <th>f_body_root</th>\n",
       "      <th>f_parent_root</th>\n",
       "      <th>f_state_root</th>\n",
       "      <th>f_eth1_block_hash</th>\n",
       "      <th>f_eth1_deposit_count</th>\n",
       "      <th>f_eth1_deposit_root</th>\n",
       "    </tr>\n",
       "    <tr>\n",
       "      <th>f_proposer_index</th>\n",
       "      <th></th>\n",
       "      <th></th>\n",
       "      <th></th>\n",
       "      <th></th>\n",
       "      <th></th>\n",
       "      <th></th>\n",
       "      <th></th>\n",
       "      <th></th>\n",
       "      <th></th>\n",
       "      <th></th>\n",
       "      <th></th>\n",
       "    </tr>\n",
       "  </thead>\n",
       "  <tbody>\n",
       "    <tr>\n",
       "      <th>0</th>\n",
       "      <td>0</td>\n",
       "      <td>0</td>\n",
       "      <td>b'\\xeb\\xe4\\x98C\\xe9nS\\x85\\x92\\xc9\\xe1\\x97n\\x15...</td>\n",
       "      <td>b'\\x00\\x00\\x00\\x00\\x00\\x00\\x00\\x00\\x00\\x00\\x00...</td>\n",
       "      <td>b'\\x00\\x00\\x00\\x00\\x00\\x00\\x00\\x00\\x00\\x00\\x00...</td>\n",
       "      <td>b'\\xcc\\xb6$`i+\\xe0\\xec\\x81;V\\xbe\\x97\\xf6\\x8a\\x...</td>\n",
       "      <td>b'\\x00\\x00\\x00\\x00\\x00\\x00\\x00\\x00\\x00\\x00\\x00...</td>\n",
       "      <td>b'\\xafj\\xaf\\xa9M\\xcc\"\\xa5\\xcf\\x02S\\xc4\\xf5\\xdd...</td>\n",
       "      <td>b'\\x00\\x00\\x00\\x00\\x00\\x00\\x00\\x00\\x00\\x00\\x00...</td>\n",
       "      <td>0</td>\n",
       "      <td>b'\\x00\\x00\\x00\\x00\\x00\\x00\\x00\\x00\\x00\\x00\\x00...</td>\n",
       "    </tr>\n",
       "    <tr>\n",
       "      <th>9804</th>\n",
       "      <td>1</td>\n",
       "      <td>9804</td>\n",
       "      <td>b'O\\x04.a\\xcb\\xf7JPdXOv\\x19Qg\\x9c\\x92\\x84M\\x8b...</td>\n",
       "      <td>b'  \\xce\\x9e NLP \\xce\\x9e  \\x00\\x00\\x00\\x00\\x0...</td>\n",
       "      <td>b'\\xae1\\xd2\\x1e;\\xdcwq%v\\xdd\\xab\\xae`\\xf5\\x1e5...</td>\n",
       "      <td>b'(],\\xf0\\xdd\\xc5\\xe3L\\x84\\xa6\\x1bl\\xe9\\r\\xceY...</td>\n",
       "      <td>b'\\xeb\\xe4\\x98C\\xe9nS\\x85\\x92\\xc9\\xe1\\x97n\\x15...</td>\n",
       "      <td>b'\\x88\\xca\\xa8\\xd6\\xe2\\xcdkV\\xd6\\x88\\xe1\\xcdW9...</td>\n",
       "      <td>b'V\\x0f\\t\\xb4@\\xe50\\xd7\\xfe\\xe7\\xed\\x01\\xc5D\\x...</td>\n",
       "      <td>22637</td>\n",
       "      <td>b'S\\xd9\\x0fw\\x8f\\x97]\\xcc\\xa3\\xf3\\x0e\\x07+\\\\\\x...</td>\n",
       "    </tr>\n",
       "    <tr>\n",
       "      <th>4488</th>\n",
       "      <td>3</td>\n",
       "      <td>4488</td>\n",
       "      <td>b'!\\xddT\\xcc\\x88\\x83?7fn\\xd4\\xfa6I\\xb3\\x1a}U\\x...</td>\n",
       "      <td>b'poapg4eM7/cwRi/ZhaZg0zp6b9A6JlcA'</td>\n",
       "      <td>b\"\\xb3\\xe4\\xfb\\xe3\\xb3%/\\xb5l\\xb6\\x99\\x03\\xd7\\...</td>\n",
       "      <td>b'K\\x95x\\x90\\xfd\\x19\\xab\\xb2\\xf3\\xa4\"\\xeaC\\xee...</td>\n",
       "      <td>b'O\\x04.a\\xcb\\xf7JPdXOv\\x19Qg\\x9c\\x92\\x84M\\x8b...</td>\n",
       "      <td>b'\\x81|\\x1d{\\xf2\\xf4/\\xab\\xa7\\xa3\\x8e\\xee\\x00E...</td>\n",
       "      <td>b'\\xe0\\xc0W33U\\x95n\\x8f\\xb8\\xd8\\x83\\x82\\xf5gk\\...</td>\n",
       "      <td>22637</td>\n",
       "      <td>b'S\\xd9\\x0fw\\x8f\\x97]\\xcc\\xa3\\xf3\\x0e\\x07+\\\\\\x...</td>\n",
       "    </tr>\n",
       "    <tr>\n",
       "      <th>1072</th>\n",
       "      <td>4</td>\n",
       "      <td>1072</td>\n",
       "      <td>b'5\\xb6\"\\xb5\\xf4!T\\xf9)O\\xd8\\x8e\\x95\\xcfY\\x169...</td>\n",
       "      <td>b'Lighthouse/v0.2.0/f26adc0a\\x00\\x00\\x00\\x00\\x...</td>\n",
       "      <td>b'\\x85\\x05\\xab\\xae\\xfcV\\x85\\x07\\xf1\\xdf\\xee\\xb...</td>\n",
       "      <td>b'Gn\\xb5\\xf0\\xfe\\xf6\\x0f-\\x14\\x08J\\xf8\\xcbj\\xc...</td>\n",
       "      <td>b'!\\xddT\\xcc\\x88\\x83?7fn\\xd4\\xfa6I\\xb3\\x1a}U\\x...</td>\n",
       "      <td>b\"\\x98YQjb\\xd9{\\xe7\\x06GI\\x1a\\xe1\\xa7\\xd8V\\xd1...</td>\n",
       "      <td>b'\\xe0\\xc0W33U\\x95n\\x8f\\xb8\\xd8\\x83\\x82\\xf5gk\\...</td>\n",
       "      <td>22637</td>\n",
       "      <td>b'S\\xd9\\x0fw\\x8f\\x97]\\xcc\\xa3\\xf3\\x0e\\x07+\\\\\\x...</td>\n",
       "    </tr>\n",
       "    <tr>\n",
       "      <th>15248</th>\n",
       "      <td>5</td>\n",
       "      <td>15248</td>\n",
       "      <td>b'\\xa2B\\x92d\\x9a\\xa3J\\x86&lt;\\\\\\x16\\xa4\\x0e\\x92\\x...</td>\n",
       "      <td>b'poapA6LBkFIMTl43vRjMZ7V98q636k0A'</td>\n",
       "      <td>b'\\xb0-\\xd7\\xfc\\xed\\x1a\\x85\\x1c\\x11\\x13j\\xc6L\\...</td>\n",
       "      <td>b'f\\xff$\\x1c\\xb2\\xc6\\xa0B\\xfc\\xaao\\xb0\\xa2D\\xc...</td>\n",
       "      <td>b'5\\xb6\"\\xb5\\xf4!T\\xf9)O\\xd8\\x8e\\x95\\xcfY\\x169...</td>\n",
       "      <td>b'\\x05\\xc8 :\\xc4\\x17\\xc1\\x9c\\xf8\\xa8\\xd3\\x07\\x...</td>\n",
       "      <td>b'\\xe0\\xc0W33U\\x95n\\x8f\\xb8\\xd8\\x83\\x82\\xf5gk\\...</td>\n",
       "      <td>22637</td>\n",
       "      <td>b'S\\xd9\\x0fw\\x8f\\x97]\\xcc\\xa3\\xf3\\x0e\\x07+\\\\\\x...</td>\n",
       "    </tr>\n",
       "  </tbody>\n",
       "</table>\n",
       "</div>"
      ],
      "text/plain": [
       "                  f_slot  f_proposer_index  \\\n",
       "f_proposer_index                             \n",
       "0                      0                 0   \n",
       "9804                   1              9804   \n",
       "4488                   3              4488   \n",
       "1072                   4              1072   \n",
       "15248                  5             15248   \n",
       "\n",
       "                                                             f_root  \\\n",
       "f_proposer_index                                                      \n",
       "0                 b'\\xeb\\xe4\\x98C\\xe9nS\\x85\\x92\\xc9\\xe1\\x97n\\x15...   \n",
       "9804              b'O\\x04.a\\xcb\\xf7JPdXOv\\x19Qg\\x9c\\x92\\x84M\\x8b...   \n",
       "4488              b'!\\xddT\\xcc\\x88\\x83?7fn\\xd4\\xfa6I\\xb3\\x1a}U\\x...   \n",
       "1072              b'5\\xb6\"\\xb5\\xf4!T\\xf9)O\\xd8\\x8e\\x95\\xcfY\\x169...   \n",
       "15248             b'\\xa2B\\x92d\\x9a\\xa3J\\x86<\\\\\\x16\\xa4\\x0e\\x92\\x...   \n",
       "\n",
       "                                                         f_graffiti  \\\n",
       "f_proposer_index                                                      \n",
       "0                 b'\\x00\\x00\\x00\\x00\\x00\\x00\\x00\\x00\\x00\\x00\\x00...   \n",
       "9804              b'  \\xce\\x9e NLP \\xce\\x9e  \\x00\\x00\\x00\\x00\\x0...   \n",
       "4488                            b'poapg4eM7/cwRi/ZhaZg0zp6b9A6JlcA'   \n",
       "1072              b'Lighthouse/v0.2.0/f26adc0a\\x00\\x00\\x00\\x00\\x...   \n",
       "15248                           b'poapA6LBkFIMTl43vRjMZ7V98q636k0A'   \n",
       "\n",
       "                                                    f_randao_reveal  \\\n",
       "f_proposer_index                                                      \n",
       "0                 b'\\x00\\x00\\x00\\x00\\x00\\x00\\x00\\x00\\x00\\x00\\x00...   \n",
       "9804              b'\\xae1\\xd2\\x1e;\\xdcwq%v\\xdd\\xab\\xae`\\xf5\\x1e5...   \n",
       "4488              b\"\\xb3\\xe4\\xfb\\xe3\\xb3%/\\xb5l\\xb6\\x99\\x03\\xd7\\...   \n",
       "1072              b'\\x85\\x05\\xab\\xae\\xfcV\\x85\\x07\\xf1\\xdf\\xee\\xb...   \n",
       "15248             b'\\xb0-\\xd7\\xfc\\xed\\x1a\\x85\\x1c\\x11\\x13j\\xc6L\\...   \n",
       "\n",
       "                                                        f_body_root  \\\n",
       "f_proposer_index                                                      \n",
       "0                 b'\\xcc\\xb6$`i+\\xe0\\xec\\x81;V\\xbe\\x97\\xf6\\x8a\\x...   \n",
       "9804              b'(],\\xf0\\xdd\\xc5\\xe3L\\x84\\xa6\\x1bl\\xe9\\r\\xceY...   \n",
       "4488              b'K\\x95x\\x90\\xfd\\x19\\xab\\xb2\\xf3\\xa4\"\\xeaC\\xee...   \n",
       "1072              b'Gn\\xb5\\xf0\\xfe\\xf6\\x0f-\\x14\\x08J\\xf8\\xcbj\\xc...   \n",
       "15248             b'f\\xff$\\x1c\\xb2\\xc6\\xa0B\\xfc\\xaao\\xb0\\xa2D\\xc...   \n",
       "\n",
       "                                                      f_parent_root  \\\n",
       "f_proposer_index                                                      \n",
       "0                 b'\\x00\\x00\\x00\\x00\\x00\\x00\\x00\\x00\\x00\\x00\\x00...   \n",
       "9804              b'\\xeb\\xe4\\x98C\\xe9nS\\x85\\x92\\xc9\\xe1\\x97n\\x15...   \n",
       "4488              b'O\\x04.a\\xcb\\xf7JPdXOv\\x19Qg\\x9c\\x92\\x84M\\x8b...   \n",
       "1072              b'!\\xddT\\xcc\\x88\\x83?7fn\\xd4\\xfa6I\\xb3\\x1a}U\\x...   \n",
       "15248             b'5\\xb6\"\\xb5\\xf4!T\\xf9)O\\xd8\\x8e\\x95\\xcfY\\x169...   \n",
       "\n",
       "                                                       f_state_root  \\\n",
       "f_proposer_index                                                      \n",
       "0                 b'\\xafj\\xaf\\xa9M\\xcc\"\\xa5\\xcf\\x02S\\xc4\\xf5\\xdd...   \n",
       "9804              b'\\x88\\xca\\xa8\\xd6\\xe2\\xcdkV\\xd6\\x88\\xe1\\xcdW9...   \n",
       "4488              b'\\x81|\\x1d{\\xf2\\xf4/\\xab\\xa7\\xa3\\x8e\\xee\\x00E...   \n",
       "1072              b\"\\x98YQjb\\xd9{\\xe7\\x06GI\\x1a\\xe1\\xa7\\xd8V\\xd1...   \n",
       "15248             b'\\x05\\xc8 :\\xc4\\x17\\xc1\\x9c\\xf8\\xa8\\xd3\\x07\\x...   \n",
       "\n",
       "                                                  f_eth1_block_hash  \\\n",
       "f_proposer_index                                                      \n",
       "0                 b'\\x00\\x00\\x00\\x00\\x00\\x00\\x00\\x00\\x00\\x00\\x00...   \n",
       "9804              b'V\\x0f\\t\\xb4@\\xe50\\xd7\\xfe\\xe7\\xed\\x01\\xc5D\\x...   \n",
       "4488              b'\\xe0\\xc0W33U\\x95n\\x8f\\xb8\\xd8\\x83\\x82\\xf5gk\\...   \n",
       "1072              b'\\xe0\\xc0W33U\\x95n\\x8f\\xb8\\xd8\\x83\\x82\\xf5gk\\...   \n",
       "15248             b'\\xe0\\xc0W33U\\x95n\\x8f\\xb8\\xd8\\x83\\x82\\xf5gk\\...   \n",
       "\n",
       "                  f_eth1_deposit_count  \\\n",
       "f_proposer_index                         \n",
       "0                                    0   \n",
       "9804                             22637   \n",
       "4488                             22637   \n",
       "1072                             22637   \n",
       "15248                            22637   \n",
       "\n",
       "                                                f_eth1_deposit_root  \n",
       "f_proposer_index                                                     \n",
       "0                 b'\\x00\\x00\\x00\\x00\\x00\\x00\\x00\\x00\\x00\\x00\\x00...  \n",
       "9804              b'S\\xd9\\x0fw\\x8f\\x97]\\xcc\\xa3\\xf3\\x0e\\x07+\\\\\\x...  \n",
       "4488              b'S\\xd9\\x0fw\\x8f\\x97]\\xcc\\xa3\\xf3\\x0e\\x07+\\\\\\x...  \n",
       "1072              b'S\\xd9\\x0fw\\x8f\\x97]\\xcc\\xa3\\xf3\\x0e\\x07+\\\\\\x...  \n",
       "15248             b'S\\xd9\\x0fw\\x8f\\x97]\\xcc\\xa3\\xf3\\x0e\\x07+\\\\\\x...  "
      ]
     },
     "execution_count": 10,
     "metadata": {},
     "output_type": "execute_result"
    }
   ],
   "source": [
    "blocks_df.index = blocks_df.f_proposer_index\n",
    "blocks_df.head()"
   ]
  },
  {
   "cell_type": "markdown",
   "metadata": {},
   "source": [
    "**Choosing the data**: \n",
    "\n",
    "> ## *The slashing*\n",
    "\n",
    "> We'll use the `t_validators` table, specifically checking the `f_index` column as the unique identifier of the validator, as well as the `f_slashed` column to know whether a validator has been slashed on that specific slot."
   ]
  },
  {
   "cell_type": "code",
   "execution_count": 11,
   "metadata": {},
   "outputs": [
    {
     "data": {
      "text/html": [
       "<div>\n",
       "<style scoped>\n",
       "    .dataframe tbody tr th:only-of-type {\n",
       "        vertical-align: middle;\n",
       "    }\n",
       "\n",
       "    .dataframe tbody tr th {\n",
       "        vertical-align: top;\n",
       "    }\n",
       "\n",
       "    .dataframe thead th {\n",
       "        text-align: right;\n",
       "    }\n",
       "</style>\n",
       "<table border=\"1\" class=\"dataframe\">\n",
       "  <thead>\n",
       "    <tr style=\"text-align: right;\">\n",
       "      <th></th>\n",
       "      <th>f_public_key</th>\n",
       "      <th>f_index</th>\n",
       "      <th>f_slashed</th>\n",
       "      <th>f_activation_eligibility_epoch</th>\n",
       "      <th>f_activation_epoch</th>\n",
       "      <th>f_exit_epoch</th>\n",
       "      <th>f_withdrawable_epoch</th>\n",
       "      <th>f_effective_balance</th>\n",
       "    </tr>\n",
       "    <tr>\n",
       "      <th>f_index</th>\n",
       "      <th></th>\n",
       "      <th></th>\n",
       "      <th></th>\n",
       "      <th></th>\n",
       "      <th></th>\n",
       "      <th></th>\n",
       "      <th></th>\n",
       "      <th></th>\n",
       "    </tr>\n",
       "  </thead>\n",
       "  <tbody>\n",
       "    <tr>\n",
       "      <th>5057</th>\n",
       "      <td>b'\\x8b\\x93\\x04o\\x19\\x0e$\\x94\\xf1\\xcd\\xa9`r0\\xb...</td>\n",
       "      <td>5057</td>\n",
       "      <td>False</td>\n",
       "      <td>0</td>\n",
       "      <td>0</td>\n",
       "      <td>-1</td>\n",
       "      <td>-1</td>\n",
       "      <td>31000000000</td>\n",
       "    </tr>\n",
       "    <tr>\n",
       "      <th>37879</th>\n",
       "      <td>b'\\xb6@\\x8f\\xce{\\x0e\\xcf\\x96Q\\x05e\\xe7\\x91`\\xb...</td>\n",
       "      <td>37879</td>\n",
       "      <td>False</td>\n",
       "      <td>3776</td>\n",
       "      <td>4680</td>\n",
       "      <td>-1</td>\n",
       "      <td>-1</td>\n",
       "      <td>32000000000</td>\n",
       "    </tr>\n",
       "    <tr>\n",
       "      <th>7990</th>\n",
       "      <td>b'\\xb08\\x1c\\xb8\\x16\\xbb\\x1a\\xc8t\\xe4!\\xba\\xc6\\...</td>\n",
       "      <td>7990</td>\n",
       "      <td>False</td>\n",
       "      <td>0</td>\n",
       "      <td>0</td>\n",
       "      <td>-1</td>\n",
       "      <td>-1</td>\n",
       "      <td>31000000000</td>\n",
       "    </tr>\n",
       "    <tr>\n",
       "      <th>19429</th>\n",
       "      <td>b\"\\xa2\\xaa\\x18\\xd4\\xdd\\xb2\\x86\\xef \\xd4%\\xd1\\x...</td>\n",
       "      <td>19429</td>\n",
       "      <td>False</td>\n",
       "      <td>0</td>\n",
       "      <td>0</td>\n",
       "      <td>-1</td>\n",
       "      <td>-1</td>\n",
       "      <td>31000000000</td>\n",
       "    </tr>\n",
       "    <tr>\n",
       "      <th>55440</th>\n",
       "      <td>b'\\xa8\\xea\\xa9\\x9fk\\x94\\xa9\\xdd\\x7f-\\xf1\\x98\\x...</td>\n",
       "      <td>55440</td>\n",
       "      <td>False</td>\n",
       "      <td>6264</td>\n",
       "      <td>9070</td>\n",
       "      <td>-1</td>\n",
       "      <td>-1</td>\n",
       "      <td>32000000000</td>\n",
       "    </tr>\n",
       "    <tr>\n",
       "      <th>...</th>\n",
       "      <td>...</td>\n",
       "      <td>...</td>\n",
       "      <td>...</td>\n",
       "      <td>...</td>\n",
       "      <td>...</td>\n",
       "      <td>...</td>\n",
       "      <td>...</td>\n",
       "      <td>...</td>\n",
       "    </tr>\n",
       "    <tr>\n",
       "      <th>50931</th>\n",
       "      <td>b'\\x99LF\\xd7\\xb9\\xe5n\\xa2e\\xe5\\rm\\xd2#X\\xffYB\\...</td>\n",
       "      <td>50931</td>\n",
       "      <td>False</td>\n",
       "      <td>4666</td>\n",
       "      <td>7943</td>\n",
       "      <td>-1</td>\n",
       "      <td>-1</td>\n",
       "      <td>32000000000</td>\n",
       "    </tr>\n",
       "    <tr>\n",
       "      <th>61623</th>\n",
       "      <td>b'\\xb8\\xb4\\x18\\x19\\xbbxjE\\x0b\\xa4\\x81K\\xdfYyW\\...</td>\n",
       "      <td>61623</td>\n",
       "      <td>False</td>\n",
       "      <td>8155</td>\n",
       "      <td>-1</td>\n",
       "      <td>-1</td>\n",
       "      <td>-1</td>\n",
       "      <td>32000000000</td>\n",
       "    </tr>\n",
       "    <tr>\n",
       "      <th>9013</th>\n",
       "      <td>b'\\x86\\x95\\x8f\\x0e\\x17,H2\\x98WP\"\\x07\\x9b\\xe6:\\...</td>\n",
       "      <td>9013</td>\n",
       "      <td>False</td>\n",
       "      <td>0</td>\n",
       "      <td>0</td>\n",
       "      <td>-1</td>\n",
       "      <td>-1</td>\n",
       "      <td>30000000000</td>\n",
       "    </tr>\n",
       "    <tr>\n",
       "      <th>47958</th>\n",
       "      <td>b\"\\xa1\\x84\\x05\\xce\\xea8D\\xa3\\x0c\\x0c7\\xe0\\xcc\\...</td>\n",
       "      <td>47958</td>\n",
       "      <td>False</td>\n",
       "      <td>4409</td>\n",
       "      <td>7199</td>\n",
       "      <td>-1</td>\n",
       "      <td>-1</td>\n",
       "      <td>32000000000</td>\n",
       "    </tr>\n",
       "    <tr>\n",
       "      <th>46383</th>\n",
       "      <td>b'\\x84NK\\xf1\\xb3\\xd6\\xb0\\x86\\xb2\\xdf\\x06\\xdd\\x...</td>\n",
       "      <td>46383</td>\n",
       "      <td>False</td>\n",
       "      <td>4216</td>\n",
       "      <td>6806</td>\n",
       "      <td>-1</td>\n",
       "      <td>-1</td>\n",
       "      <td>32000000000</td>\n",
       "    </tr>\n",
       "  </tbody>\n",
       "</table>\n",
       "<p>67291 rows × 8 columns</p>\n",
       "</div>"
      ],
      "text/plain": [
       "                                              f_public_key  f_index  \\\n",
       "f_index                                                               \n",
       "5057     b'\\x8b\\x93\\x04o\\x19\\x0e$\\x94\\xf1\\xcd\\xa9`r0\\xb...     5057   \n",
       "37879    b'\\xb6@\\x8f\\xce{\\x0e\\xcf\\x96Q\\x05e\\xe7\\x91`\\xb...    37879   \n",
       "7990     b'\\xb08\\x1c\\xb8\\x16\\xbb\\x1a\\xc8t\\xe4!\\xba\\xc6\\...     7990   \n",
       "19429    b\"\\xa2\\xaa\\x18\\xd4\\xdd\\xb2\\x86\\xef \\xd4%\\xd1\\x...    19429   \n",
       "55440    b'\\xa8\\xea\\xa9\\x9fk\\x94\\xa9\\xdd\\x7f-\\xf1\\x98\\x...    55440   \n",
       "...                                                    ...      ...   \n",
       "50931    b'\\x99LF\\xd7\\xb9\\xe5n\\xa2e\\xe5\\rm\\xd2#X\\xffYB\\...    50931   \n",
       "61623    b'\\xb8\\xb4\\x18\\x19\\xbbxjE\\x0b\\xa4\\x81K\\xdfYyW\\...    61623   \n",
       "9013     b'\\x86\\x95\\x8f\\x0e\\x17,H2\\x98WP\"\\x07\\x9b\\xe6:\\...     9013   \n",
       "47958    b\"\\xa1\\x84\\x05\\xce\\xea8D\\xa3\\x0c\\x0c7\\xe0\\xcc\\...    47958   \n",
       "46383    b'\\x84NK\\xf1\\xb3\\xd6\\xb0\\x86\\xb2\\xdf\\x06\\xdd\\x...    46383   \n",
       "\n",
       "         f_slashed  f_activation_eligibility_epoch  f_activation_epoch  \\\n",
       "f_index                                                                  \n",
       "5057         False                               0                   0   \n",
       "37879        False                            3776                4680   \n",
       "7990         False                               0                   0   \n",
       "19429        False                               0                   0   \n",
       "55440        False                            6264                9070   \n",
       "...            ...                             ...                 ...   \n",
       "50931        False                            4666                7943   \n",
       "61623        False                            8155                  -1   \n",
       "9013         False                               0                   0   \n",
       "47958        False                            4409                7199   \n",
       "46383        False                            4216                6806   \n",
       "\n",
       "         f_exit_epoch  f_withdrawable_epoch  f_effective_balance  \n",
       "f_index                                                           \n",
       "5057               -1                    -1          31000000000  \n",
       "37879              -1                    -1          32000000000  \n",
       "7990               -1                    -1          31000000000  \n",
       "19429              -1                    -1          31000000000  \n",
       "55440              -1                    -1          32000000000  \n",
       "...               ...                   ...                  ...  \n",
       "50931              -1                    -1          32000000000  \n",
       "61623              -1                    -1          32000000000  \n",
       "9013               -1                    -1          30000000000  \n",
       "47958              -1                    -1          32000000000  \n",
       "46383              -1                    -1          32000000000  \n",
       "\n",
       "[67291 rows x 8 columns]"
      ]
     },
     "execution_count": 11,
     "metadata": {},
     "output_type": "execute_result"
    }
   ],
   "source": [
    "# Loading chainid's validator's table as a dataframe\n",
    "validators_df = pd.read_sql_table('t_validators', con=conn)\n",
    "\n",
    "# Set f_index as dataframe index\n",
    "validators_df.index = validators_df.f_index\n",
    "validators_df.head()"
   ]
  },
  {
   "cell_type": "markdown",
   "metadata": {},
   "source": [
    "## 🏅 Slashings Overview "
   ]
  },
  {
   "cell_type": "code",
   "execution_count": 36,
   "metadata": {},
   "outputs": [
    {
     "name": "stdout",
     "output_type": "stream",
     "text": [
      "From the 67291 rows in this dataset, we have identified 5181 cases where the validators were slashed, and 62110 where they were not slashed.\n",
      "\n",
      "In other words, in this dataset the validators were slashed 7.699395164286457% of the times logged\n"
     ]
    }
   ],
   "source": [
    "slashed_data = validators_df.f_slashed.value_counts()\n",
    "sd = {'False': slashed_data[0],\n",
    "      'True': slashed_data[1]}\n",
    "\n",
    "rows = sd['False']+sd['True']\n",
    "print(f\"From the {rows} rows in this dataset, we have identified {sd['True']} cases where the validators were slashed, and {sd['False']} where they were not slashed.\")\n",
    "\n",
    "print(f\"\\nIn other words, in this dataset the validators were slashed {sd['True']/rows*100}% of the times logged\")"
   ]
  },
  {
   "cell_type": "code",
   "execution_count": 37,
   "metadata": {
    "scrolled": true
   },
   "outputs": [
    {
     "data": {
      "text/plain": [
       "False    62110\n",
       "True      5181\n",
       "Name: f_slashed, dtype: int64"
      ]
     },
     "execution_count": 37,
     "metadata": {},
     "output_type": "execute_result"
    },
    {
     "data": {
      "image/png": "[encoded data removed]",
      "text/plain": [
       "<Figure size 432x288 with 1 Axes>"
      ]
     },
     "metadata": {
      "needs_background": "light"
     },
     "output_type": "display_data"
    }
   ],
   "source": [
    "# Visual representation\n",
    "plt.bar(sd.keys(), sd.values())\n",
    "slashed_data"
   ]
  },
  {
   "cell_type": "markdown",
   "metadata": {},
   "source": [
    "## 🏅 Slashings by client used \n",
    "This classification was done by using the graffiti string, and manually asigning them a name based on our limited knowledge of Eth2 Clients."
   ]
  },
  {
   "cell_type": "code",
   "execution_count": 13,
   "metadata": {
    "scrolled": false
   },
   "outputs": [],
   "source": [
    "# Joining the two tables, using the `f_index`\n",
    "data = blocks_df.join(validators_df)"
   ]
  },
  {
   "cell_type": "code",
   "execution_count": 14,
   "metadata": {
    "scrolled": true
   },
   "outputs": [],
   "source": [
    "# Manual counting of the occurrences in the block graffiti\n",
    "\n",
    "def client_identifier(grafitti):\n",
    "    e = grafitti\n",
    "    if b'Lighthouse' in e:\n",
    "        return 'Lighthouse'\n",
    "\n",
    "    elif b'teku' in e:\n",
    "        return 'Teku'\n",
    "    elif b'Nimbus' in e:\n",
    "        return 'Nimbus'\n",
    "    elif b'Lodestar' in e:\n",
    "        return 'Lodestar'\n",
    "    elif b'Pukara' in e:\n",
    "        return 'Pukara'\n",
    "    elif b'poap' in e:\n",
    "        return 'Poap'\n",
    "    elif b'\\x00\\x00\\x00\\x00\\x00\\x00\\x00\\x00\\x00\\x00' in e:\n",
    "        return 'blank graffiti'\n",
    "    else:\n",
    "        return 'unknown'\n",
    "\n",
    "data['client'] = data.f_graffiti.apply(client_identifier)\n",
    "clients = data.client.value_counts()"
   ]
  },
  {
   "cell_type": "code",
   "execution_count": 39,
   "metadata": {},
   "outputs": [
    {
     "name": "stdout",
     "output_type": "stream",
     "text": [
      "blank graffiti    106411\n",
      "Poap               57455\n",
      "unknown            29696\n",
      "Lighthouse         13994\n",
      "Teku                9040\n",
      "Nimbus              3517\n",
      "Pukara               256\n",
      "Name: client, dtype: int64\n"
     ]
    },
    {
     "data": {
      "text/plain": [
       "<BarContainer object of 7 artists>"
      ]
     },
     "execution_count": 39,
     "metadata": {},
     "output_type": "execute_result"
    },
    {
     "data": {
      "image/png": "[encoded data removed]",
      "text/plain": [
       "<Figure size 432x288 with 1 Axes>"
      ]
     },
     "metadata": {
      "needs_background": "light"
     },
     "output_type": "display_data"
    }
   ],
   "source": [
    "#Visualizing distribution of Eth2 clients in our dataset\n",
    "print(clients)\n",
    "plt.bar(clients.index[0:], clients.values[0:])"
   ]
  },
  {
   "cell_type": "code",
   "execution_count": 45,
   "metadata": {},
   "outputs": [
    {
     "data": {
      "text/plain": [
       "Text(0.5, 1.0, 'Visualization of identified and unidentified clients in the Medalla testnet')"
      ]
     },
     "execution_count": 45,
     "metadata": {},
     "output_type": "execute_result"
    },
    {
     "data": {
      "image/png": "[encoded data removed]",
      "text/plain": [
       "<Figure size 576x576 with 1 Axes>"
      ]
     },
     "metadata": {},
     "output_type": "display_data"
    }
   ],
   "source": [
    "plt.figure(figsize=(8,8))\n",
    "plt.pie(clients.values[0:], labels= clients.index[0:], autopct='%1.1f%%')\n",
    "plt.title('Visualization of identified and unidentified clients in the Medalla testnet')"
   ]
  },
  {
   "cell_type": "markdown",
   "metadata": {},
   "source": [
    "> ### Finally, we will look into which of these clients have been slashed more frequently."
   ]
  },
  {
   "cell_type": "code",
   "execution_count": 20,
   "metadata": {},
   "outputs": [
    {
     "data": {
      "text/plain": [
       "blank graffiti    11743\n",
       "unknown            3169\n",
       "Poap                746\n",
       "Lighthouse           47\n",
       "Nimbus               34\n",
       "Name: client, dtype: int64"
      ]
     },
     "execution_count": 20,
     "metadata": {},
     "output_type": "execute_result"
    }
   ],
   "source": [
    "results = data[data.f_slashed].client.value_counts() \n",
    "results"
   ]
  },
  {
   "cell_type": "code",
   "execution_count": 21,
   "metadata": {
    "scrolled": true
   },
   "outputs": [
    {
     "data": {
      "text/plain": [
       "Text(0.5, 1.0, 'Number of slashes per grafitti logs')"
      ]
     },
     "execution_count": 21,
     "metadata": {},
     "output_type": "execute_result"
    },
    {
     "data": {
      "image/png": "[encoded data removed]",
      "text/plain": [
       "<Figure size 432x288 with 1 Axes>"
      ]
     },
     "metadata": {
      "needs_background": "light"
     },
     "output_type": "display_data"
    }
   ],
   "source": [
    "plt.bar(results.index[1:], results.values[1:])\n",
    "plt.title('Number of slashes per grafitti logs')"
   ]
  },
  {
   "cell_type": "code",
   "execution_count": 53,
   "metadata": {},
   "outputs": [
    {
     "data": {
      "text/plain": [
       "Text(0.5, 1.0, 'Chart of identified and identifiable clients in the dataset which had been slashed')"
      ]
     },
     "execution_count": 53,
     "metadata": {},
     "output_type": "execute_result"
    },
    {
     "data": {
      "image/png": "[encoded data removed]",
      "text/plain": [
       "<Figure size 576x576 with 1 Axes>"
      ]
     },
     "metadata": {},
     "output_type": "display_data"
    }
   ],
   "source": [
    "plt.figure(figsize=(8,8))\n",
    "plt.pie(results.values[2:], labels= results.index[2:], autopct='%1.1f%%')\n",
    "plt.title('Chart of identified and identifiable clients in the dataset which had been slashed')"
   ]
  },
  {
   "cell_type": "markdown",
   "metadata": {},
   "source": [
    "## Conclusions \n",
    "\n",
    "When comparing the ammount of slashes identified, we can highlight:\n",
    " - About 8% of validators get slashed.\n",
    " - The `Nimbus` and `Lighthouse` clients were identified as the most slashed clients.\n",
    " - It is not clear in the documentation what happens with the accumulated balance due to penalties and slashing.\n",
    " - We have noticed that there could be a positive correlation between the client used by the validators and the frequency of slashing.\n",
    " \n",
    "## Suggestions\n",
    "- *Looking deeper into why `Lighthouse` and `Nimbus` seem to be the most slashed clients.*\n",
    "- Exploring the data around the `poap` graffities, which are formatted by  early adopters of the tech to obtain Non-Fungible tokens. The poap graffities themselves can shed a light on what type of client the validator was running when they were slashed.\n",
    "- Connecting this primitive pipeline with a live ChainID database, and explore the data in real time in a web browser."
   ]
  },
  {
   "cell_type": "markdown",
   "metadata": {},
   "source": [
    "### Deliverables:\n",
    "    In the `OUTPUT` folder of this repo we have included a .csv file with the joined dataframes for future researchers to leverage without needing to set up Postgres or ChainID\n",
    "    \n",
    "### Credits\n",
    "This notebook was prepared by the [dOrg DAO](https://dorg.tech) for the Eth2 Medalla Data Challenge, organized by the Ethereum foundation. Contributions were made by\n",
    " - Roberto Henríquez\n",
    " - Nathanael Mueller\n",
    " - Paul Díaz"
   ]
  },
  {
   "cell_type": "code",
   "execution_count": null,
   "metadata": {},
   "outputs": [],
   "source": []
  }
 ],
 "metadata": {
  "kernelspec": {
   "display_name": "Python 3",
   "language": "python",
   "name": "python3"
  },
  "language_info": {
   "codemirror_mode": {
    "name": "ipython",
    "version": 3
   },
   "file_extension": ".py",
   "mimetype": "text/x-python",
   "name": "python",
   "nbconvert_exporter": "python",
   "pygments_lexer": "ipython3",
   "version": "3.8.6"
  }
 },
 "nbformat": 4,
 "nbformat_minor": 4
}
